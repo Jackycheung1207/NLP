{
  "cells": [
    {
      "cell_type": "markdown",
      "metadata": {
        "id": "2yUmgux3Qyai"
      },
      "source": [
        "# Unzip and Data Structuring\n",
        "\n"
      ]
    },
    {
      "cell_type": "code",
      "execution_count": null,
      "metadata": {
        "id": "9Z3AjEqfJ1vo"
      },
      "outputs": [],
      "source": [
        "# Import Essential Library\n",
        "\n",
        "import pandas as pd\n",
        "import numpy as np\n",
        "import matplotlib.pyplot as plt\n",
        "import tensorflow as tf\n"
      ]
    },
    {
      "cell_type": "code",
      "execution_count": null,
      "metadata": {
        "id": "cgecrgg1MhV0"
      },
      "outputs": [],
      "source": [
        "with zipfile.ZipFile('/content/drive/MyDrive/Project 3 - Kaggle NLP/feedback-prize-2021.zip', 'r') as zip_ref:\n",
        "    zip_ref.extractall('/content/kaggle/')"
      ]
    },
    {
      "cell_type": "code",
      "execution_count": null,
      "metadata": {
        "colab": {
          "base_uri": "https://localhost:8080/"
        },
        "id": "4Uy2lqXFIfPg",
        "outputId": "cede577d-1532-4887-9c2e-19eb8eac4b01"
      },
      "outputs": [
        {
          "output_type": "execute_result",
          "data": {
            "text/plain": [
              "15594"
            ]
          },
          "metadata": {},
          "execution_count": 21
        }
      ],
      "source": [
        "train_all_files = os.listdir('/content/kaggle/train/')    #list all file name in train files\n",
        "len(train_all_files)"
      ]
    },
    {
      "cell_type": "code",
      "execution_count": null,
      "metadata": {
        "id": "8lpV7kfyIqng"
      },
      "outputs": [],
      "source": [
        "test_all_files = os.listdir('/content/kaggle/train/')     #list all file name in test files, for submission"
      ]
    },
    {
      "cell_type": "code",
      "execution_count": null,
      "metadata": {
        "colab": {
          "base_uri": "https://localhost:8080/",
          "height": 840
        },
        "id": "l4u3AMS3Tg7T",
        "outputId": "fb74b1f6-2519-41bb-be3b-c85e5de3271d"
      },
      "outputs": [
        {
          "output_type": "execute_result",
          "data": {
            "text/html": [
              "\n",
              "  <div id=\"df-5be40af3-2786-40e1-a22d-a3f4d5c5bb3c\">\n",
              "    <div class=\"colab-df-container\">\n",
              "      <div>\n",
              "<style scoped>\n",
              "    .dataframe tbody tr th:only-of-type {\n",
              "        vertical-align: middle;\n",
              "    }\n",
              "\n",
              "    .dataframe tbody tr th {\n",
              "        vertical-align: top;\n",
              "    }\n",
              "\n",
              "    .dataframe thead th {\n",
              "        text-align: right;\n",
              "    }\n",
              "</style>\n",
              "<table border=\"1\" class=\"dataframe\">\n",
              "  <thead>\n",
              "    <tr style=\"text-align: right;\">\n",
              "      <th></th>\n",
              "      <th>id</th>\n",
              "      <th>discourse_id</th>\n",
              "      <th>discourse_start</th>\n",
              "      <th>discourse_end</th>\n",
              "      <th>discourse_text</th>\n",
              "      <th>discourse_type</th>\n",
              "      <th>discourse_type_num</th>\n",
              "      <th>predictionstring</th>\n",
              "    </tr>\n",
              "  </thead>\n",
              "  <tbody>\n",
              "    <tr>\n",
              "      <th>0</th>\n",
              "      <td>423A1CA112E2</td>\n",
              "      <td>1.622628e+12</td>\n",
              "      <td>8.0</td>\n",
              "      <td>229.0</td>\n",
              "      <td>Modern humans today are always on their phone....</td>\n",
              "      <td>Lead</td>\n",
              "      <td>Lead 1</td>\n",
              "      <td>1 2 3 4 5 6 7 8 9 10 11 12 13 14 15 16 17 18 1...</td>\n",
              "    </tr>\n",
              "    <tr>\n",
              "      <th>1</th>\n",
              "      <td>423A1CA112E2</td>\n",
              "      <td>1.622628e+12</td>\n",
              "      <td>230.0</td>\n",
              "      <td>312.0</td>\n",
              "      <td>They are some really bad consequences when stu...</td>\n",
              "      <td>Position</td>\n",
              "      <td>Position 1</td>\n",
              "      <td>45 46 47 48 49 50 51 52 53 54 55 56 57 58 59</td>\n",
              "    </tr>\n",
              "    <tr>\n",
              "      <th>2</th>\n",
              "      <td>423A1CA112E2</td>\n",
              "      <td>1.622628e+12</td>\n",
              "      <td>313.0</td>\n",
              "      <td>401.0</td>\n",
              "      <td>Some certain areas in the United States ban ph...</td>\n",
              "      <td>Evidence</td>\n",
              "      <td>Evidence 1</td>\n",
              "      <td>60 61 62 63 64 65 66 67 68 69 70 71 72 73 74 75</td>\n",
              "    </tr>\n",
              "    <tr>\n",
              "      <th>3</th>\n",
              "      <td>423A1CA112E2</td>\n",
              "      <td>1.622628e+12</td>\n",
              "      <td>402.0</td>\n",
              "      <td>758.0</td>\n",
              "      <td>When people have phones, they know about certa...</td>\n",
              "      <td>Evidence</td>\n",
              "      <td>Evidence 2</td>\n",
              "      <td>76 77 78 79 80 81 82 83 84 85 86 87 88 89 90 9...</td>\n",
              "    </tr>\n",
              "    <tr>\n",
              "      <th>4</th>\n",
              "      <td>423A1CA112E2</td>\n",
              "      <td>1.622628e+12</td>\n",
              "      <td>759.0</td>\n",
              "      <td>886.0</td>\n",
              "      <td>Driving is one of the way how to get around. P...</td>\n",
              "      <td>Claim</td>\n",
              "      <td>Claim 1</td>\n",
              "      <td>139 140 141 142 143 144 145 146 147 148 149 15...</td>\n",
              "    </tr>\n",
              "    <tr>\n",
              "      <th>...</th>\n",
              "      <td>...</td>\n",
              "      <td>...</td>\n",
              "      <td>...</td>\n",
              "      <td>...</td>\n",
              "      <td>...</td>\n",
              "      <td>...</td>\n",
              "      <td>...</td>\n",
              "      <td>...</td>\n",
              "    </tr>\n",
              "    <tr>\n",
              "      <th>144288</th>\n",
              "      <td>4C471936CD75</td>\n",
              "      <td>1.618153e+12</td>\n",
              "      <td>2234.0</td>\n",
              "      <td>3203.0</td>\n",
              "      <td>if I'm not sure what college I want to attend...</td>\n",
              "      <td>Evidence</td>\n",
              "      <td>Evidence 2</td>\n",
              "      <td>386 387 388 389 390 391 392 393 394 395 396 39...</td>\n",
              "    </tr>\n",
              "    <tr>\n",
              "      <th>144289</th>\n",
              "      <td>4C471936CD75</td>\n",
              "      <td>1.618153e+12</td>\n",
              "      <td>3221.0</td>\n",
              "      <td>4509.0</td>\n",
              "      <td>seeking multiple opinions before making a har...</td>\n",
              "      <td>Evidence</td>\n",
              "      <td>Evidence 3</td>\n",
              "      <td>576 577 578 579 580 581 582 583 584 585 586 58...</td>\n",
              "    </tr>\n",
              "    <tr>\n",
              "      <th>144290</th>\n",
              "      <td>4C471936CD75</td>\n",
              "      <td>1.618025e+12</td>\n",
              "      <td>4510.0</td>\n",
              "      <td>4570.0</td>\n",
              "      <td>it is better to seek multiple opinions instead...</td>\n",
              "      <td>Position</td>\n",
              "      <td>Position 1</td>\n",
              "      <td>828 829 830 831 832 833 834 835 836 837 838</td>\n",
              "    </tr>\n",
              "    <tr>\n",
              "      <th>144291</th>\n",
              "      <td>4C471936CD75</td>\n",
              "      <td>1.618025e+12</td>\n",
              "      <td>4570.0</td>\n",
              "      <td>4922.0</td>\n",
              "      <td>The impact of asking people to help you make a...</td>\n",
              "      <td>Evidence</td>\n",
              "      <td>Evidence 4</td>\n",
              "      <td>839 840 841 842 843 844 845 846 847 848 849 85...</td>\n",
              "    </tr>\n",
              "    <tr>\n",
              "      <th>144292</th>\n",
              "      <td>4C471936CD75</td>\n",
              "      <td>1.618025e+12</td>\n",
              "      <td>4935.0</td>\n",
              "      <td>5825.0</td>\n",
              "      <td>there are many other reasons one might want to...</td>\n",
              "      <td>Concluding Statement</td>\n",
              "      <td>Concluding Statement 1</td>\n",
              "      <td>905 906 907 908 909 910 911 912 913 914 915 91...</td>\n",
              "    </tr>\n",
              "  </tbody>\n",
              "</table>\n",
              "<p>144293 rows × 8 columns</p>\n",
              "</div>\n",
              "      <button class=\"colab-df-convert\" onclick=\"convertToInteractive('df-5be40af3-2786-40e1-a22d-a3f4d5c5bb3c')\"\n",
              "              title=\"Convert this dataframe to an interactive table.\"\n",
              "              style=\"display:none;\">\n",
              "        \n",
              "  <svg xmlns=\"http://www.w3.org/2000/svg\" height=\"24px\"viewBox=\"0 0 24 24\"\n",
              "       width=\"24px\">\n",
              "    <path d=\"M0 0h24v24H0V0z\" fill=\"none\"/>\n",
              "    <path d=\"M18.56 5.44l.94 2.06.94-2.06 2.06-.94-2.06-.94-.94-2.06-.94 2.06-2.06.94zm-11 1L8.5 8.5l.94-2.06 2.06-.94-2.06-.94L8.5 2.5l-.94 2.06-2.06.94zm10 10l.94 2.06.94-2.06 2.06-.94-2.06-.94-.94-2.06-.94 2.06-2.06.94z\"/><path d=\"M17.41 7.96l-1.37-1.37c-.4-.4-.92-.59-1.43-.59-.52 0-1.04.2-1.43.59L10.3 9.45l-7.72 7.72c-.78.78-.78 2.05 0 2.83L4 21.41c.39.39.9.59 1.41.59.51 0 1.02-.2 1.41-.59l7.78-7.78 2.81-2.81c.8-.78.8-2.07 0-2.86zM5.41 20L4 18.59l7.72-7.72 1.47 1.35L5.41 20z\"/>\n",
              "  </svg>\n",
              "      </button>\n",
              "      \n",
              "  <style>\n",
              "    .colab-df-container {\n",
              "      display:flex;\n",
              "      flex-wrap:wrap;\n",
              "      gap: 12px;\n",
              "    }\n",
              "\n",
              "    .colab-df-convert {\n",
              "      background-color: #E8F0FE;\n",
              "      border: none;\n",
              "      border-radius: 50%;\n",
              "      cursor: pointer;\n",
              "      display: none;\n",
              "      fill: #1967D2;\n",
              "      height: 32px;\n",
              "      padding: 0 0 0 0;\n",
              "      width: 32px;\n",
              "    }\n",
              "\n",
              "    .colab-df-convert:hover {\n",
              "      background-color: #E2EBFA;\n",
              "      box-shadow: 0px 1px 2px rgba(60, 64, 67, 0.3), 0px 1px 3px 1px rgba(60, 64, 67, 0.15);\n",
              "      fill: #174EA6;\n",
              "    }\n",
              "\n",
              "    [theme=dark] .colab-df-convert {\n",
              "      background-color: #3B4455;\n",
              "      fill: #D2E3FC;\n",
              "    }\n",
              "\n",
              "    [theme=dark] .colab-df-convert:hover {\n",
              "      background-color: #434B5C;\n",
              "      box-shadow: 0px 1px 3px 1px rgba(0, 0, 0, 0.15);\n",
              "      filter: drop-shadow(0px 1px 2px rgba(0, 0, 0, 0.3));\n",
              "      fill: #FFFFFF;\n",
              "    }\n",
              "  </style>\n",
              "\n",
              "      <script>\n",
              "        const buttonEl =\n",
              "          document.querySelector('#df-5be40af3-2786-40e1-a22d-a3f4d5c5bb3c button.colab-df-convert');\n",
              "        buttonEl.style.display =\n",
              "          google.colab.kernel.accessAllowed ? 'block' : 'none';\n",
              "\n",
              "        async function convertToInteractive(key) {\n",
              "          const element = document.querySelector('#df-5be40af3-2786-40e1-a22d-a3f4d5c5bb3c');\n",
              "          const dataTable =\n",
              "            await google.colab.kernel.invokeFunction('convertToInteractive',\n",
              "                                                     [key], {});\n",
              "          if (!dataTable) return;\n",
              "\n",
              "          const docLinkHtml = 'Like what you see? Visit the ' +\n",
              "            '<a target=\"_blank\" href=https://colab.research.google.com/notebooks/data_table.ipynb>data table notebook</a>'\n",
              "            + ' to learn more about interactive tables.';\n",
              "          element.innerHTML = '';\n",
              "          dataTable['output_type'] = 'display_data';\n",
              "          await google.colab.output.renderOutput(dataTable, element);\n",
              "          const docLink = document.createElement('div');\n",
              "          docLink.innerHTML = docLinkHtml;\n",
              "          element.appendChild(docLink);\n",
              "        }\n",
              "      </script>\n",
              "    </div>\n",
              "  </div>\n",
              "  "
            ],
            "text/plain": [
              "                  id  ...                                   predictionstring\n",
              "0       423A1CA112E2  ...  1 2 3 4 5 6 7 8 9 10 11 12 13 14 15 16 17 18 1...\n",
              "1       423A1CA112E2  ...       45 46 47 48 49 50 51 52 53 54 55 56 57 58 59\n",
              "2       423A1CA112E2  ...    60 61 62 63 64 65 66 67 68 69 70 71 72 73 74 75\n",
              "3       423A1CA112E2  ...  76 77 78 79 80 81 82 83 84 85 86 87 88 89 90 9...\n",
              "4       423A1CA112E2  ...  139 140 141 142 143 144 145 146 147 148 149 15...\n",
              "...              ...  ...                                                ...\n",
              "144288  4C471936CD75  ...  386 387 388 389 390 391 392 393 394 395 396 39...\n",
              "144289  4C471936CD75  ...  576 577 578 579 580 581 582 583 584 585 586 58...\n",
              "144290  4C471936CD75  ...        828 829 830 831 832 833 834 835 836 837 838\n",
              "144291  4C471936CD75  ...  839 840 841 842 843 844 845 846 847 848 849 85...\n",
              "144292  4C471936CD75  ...  905 906 907 908 909 910 911 912 913 914 915 91...\n",
              "\n",
              "[144293 rows x 8 columns]"
            ]
          },
          "metadata": {},
          "execution_count": 23
        }
      ],
      "source": [
        "df = pd.read_csv('/content/kaggle/train.csv')            #open csv file \n",
        "df"
      ]
    },
    {
      "cell_type": "code",
      "execution_count": null,
      "metadata": {
        "id": "hGyVRaAPTp45"
      },
      "outputs": [],
      "source": [
        "# save all file in a list all_essays\n",
        "all_essays = []\n",
        "for text_file in train_all_files:\n",
        "  with open('./kaggle/train/'+text_file,'r') as f:\n",
        "    temp_text = f.read()\n",
        "  all_essays.append(temp_text)"
      ]
    },
    {
      "cell_type": "code",
      "execution_count": null,
      "metadata": {
        "id": "raeYMfNyfC7C"
      },
      "outputs": [],
      "source": [
        ""
      ]
    },
    {
      "cell_type": "markdown",
      "metadata": {
        "id": "2AmGCjaEjkkQ"
      },
      "source": [
        "# Preprocessing A\n"
      ]
    },
    {
      "cell_type": "code",
      "execution_count": null,
      "metadata": {
        "id": "DEklhfMojpvF"
      },
      "outputs": [],
      "source": [
        "def type(x):\n",
        "  if x=='Lead':\n",
        "    return 0\n",
        "  elif x=='Position':\n",
        "    return 1\n",
        "  elif x=='Evidence':\n",
        "    return 2\n",
        "  elif x=='Claim':\n",
        "    return 3 \n",
        "  elif x=='Concluding Statement':\n",
        "    return 4\n",
        "  elif x=='Counterclaim':\n",
        "    return 5\n",
        "  elif x=='Rebuttal':\n",
        "    return 6\n"
      ]
    },
    {
      "cell_type": "code",
      "execution_count": null,
      "metadata": {
        "id": "euroNw3ufxy4"
      },
      "outputs": [],
      "source": [
        "df['discourse_type_']=df.discourse_type.apply(type)"
      ]
    },
    {
      "cell_type": "code",
      "execution_count": null,
      "metadata": {
        "colab": {
          "base_uri": "https://localhost:8080/"
        },
        "id": "E5HKtA9Uf4Xb",
        "outputId": "21e55d31-0434-468f-cbeb-7f330a033c03"
      },
      "outputs": [
        {
          "output_type": "execute_result",
          "data": {
            "text/plain": [
              "3    50208\n",
              "2    45702\n",
              "1    15419\n",
              "4    13505\n",
              "0     9305\n",
              "5     5817\n",
              "6     4337\n",
              "Name: discourse_type_, dtype: int64"
            ]
          },
          "metadata": {},
          "execution_count": 21
        }
      ],
      "source": [
        "df.discourse_type_.value_counts()"
      ]
    },
    {
      "cell_type": "code",
      "execution_count": null,
      "metadata": {
        "id": "npUDlI__gAl6"
      },
      "outputs": [],
      "source": [
        "from sklearn.model_selection import train_test_split\n",
        "X=df['discourse_text']\n",
        "y=df['discourse_type_']\n",
        "\n",
        "X_train, X_test, y_train, y_test = train_test_split(X,y, test_size=0.2, random_state=42)#,shuffle=False)"
      ]
    },
    {
      "cell_type": "code",
      "execution_count": null,
      "metadata": {
        "id": "ECNlY5-qvc0w"
      },
      "outputs": [],
      "source": [
        "num_classes=7\n",
        "y_train = tf.keras.utils.to_categorical(y_train, num_classes)\n",
        "y_test = tf.keras.utils.to_categorical(y_test, num_classes)"
      ]
    },
    {
      "cell_type": "code",
      "execution_count": null,
      "metadata": {
        "colab": {
          "base_uri": "https://localhost:8080/"
        },
        "id": "GsinnQ3b1LJG",
        "outputId": "09a592ca-5669-432f-972d-d7415352f94a"
      },
      "outputs": [
        {
          "output_type": "execute_result",
          "data": {
            "text/plain": [
              "('Some certain areas in the United States ban phones from class rooms just because of it. ',\n",
              " array([0., 0., 1., 0., 0., 0., 0.], dtype=float32))"
            ]
          },
          "metadata": {},
          "execution_count": 24
        }
      ],
      "source": [
        "X_train[2],y_train[2]"
      ]
    },
    {
      "cell_type": "code",
      "execution_count": null,
      "metadata": {
        "id": "o4iFY3xijKNW"
      },
      "outputs": [],
      "source": [
        "pip install tensorflow_text >log.txt"
      ]
    },
    {
      "cell_type": "code",
      "execution_count": null,
      "metadata": {
        "id": "dmaiIX9jjQee"
      },
      "outputs": [],
      "source": [
        "import tensorflow as tf\n",
        "import tensorflow_hub as hub\n",
        "import tensorflow_text as text"
      ]
    },
    {
      "cell_type": "code",
      "execution_count": null,
      "metadata": {
        "id": "MhPDwrAojV33"
      },
      "outputs": [],
      "source": [
        "bert_preprocess = hub.KerasLayer(\"https://tfhub.dev/tensorflow/bert_en_uncased_preprocess/3\")\n",
        "bert_encoder = hub.KerasLayer(\"https://tfhub.dev/tensorflow/bert_en_uncased_L-24_H-1024_A-16/4\")"
      ]
    },
    {
      "cell_type": "code",
      "execution_count": null,
      "metadata": {
        "colab": {
          "base_uri": "https://localhost:8080/"
        },
        "id": "M2B1I8yKja0t",
        "outputId": "4a2a8e62-9396-4e58-d959-1f3c785572cd"
      },
      "outputs": [
        {
          "output_type": "execute_result",
          "data": {
            "text/plain": [
              "(144293, 115434, 28859)"
            ]
          },
          "metadata": {},
          "execution_count": 28
        }
      ],
      "source": [
        "len(X),len(X_train),len(X_test)"
      ]
    },
    {
      "cell_type": "code",
      "execution_count": null,
      "metadata": {
        "colab": {
          "base_uri": "https://localhost:8080/"
        },
        "id": "68vGRZE9lNKJ",
        "outputId": "1db062a6-e4aa-4fca-cceb-2a415066754c"
      },
      "outputs": [
        {
          "output_type": "execute_result",
          "data": {
            "text/plain": [
              "117132    Some schools offer distance learning as an opt...\n",
              "122438                                  have more free time\n",
              "136832    Everybody has a different opinion since we are...\n",
              "52562     The technology could tell what pecent of each ...\n",
              "25077     Such as he knew it was an opprotunity of a lif...\n",
              "Name: discourse_text, dtype: object"
            ]
          },
          "metadata": {},
          "execution_count": 30
        }
      ],
      "source": [
        "X_train[:5]"
      ]
    },
    {
      "cell_type": "code",
      "execution_count": null,
      "metadata": {
        "colab": {
          "base_uri": "https://localhost:8080/"
        },
        "id": "cdwGPNP6cxj9",
        "outputId": "97040c7e-2919-4bd3-9654-fcc747d16ed7"
      },
      "outputs": [
        {
          "output_type": "execute_result",
          "data": {
            "text/plain": [
              "array([[0., 1., 0., 0., 0., 0., 0.],\n",
              "       [0., 0., 0., 1., 0., 0., 0.],\n",
              "       [0., 0., 1., 0., 0., 0., 0.],\n",
              "       [0., 0., 0., 1., 0., 0., 0.],\n",
              "       [0., 0., 0., 1., 0., 0., 0.]], dtype=float32)"
            ]
          },
          "metadata": {},
          "execution_count": 31
        }
      ],
      "source": [
        "y_train[:5]"
      ]
    },
    {
      "cell_type": "code",
      "execution_count": null,
      "metadata": {
        "id": "-s7ecLGutwFE"
      },
      "outputs": [],
      "source": [
        "# Bert layers\n",
        "text_input = tf.keras.layers.Input(shape=(), dtype=tf.string, name='text')\n",
        "preprocessed_text = bert_preprocess(text_input)\n",
        "outputs = bert_encoder(preprocessed_text)\n",
        "\n",
        "# Neural network layers\n",
        "l = tf.keras.layers.Dropout(0.1, name=\"dropout\")(outputs['pooled_output'])\n",
        "l = tf.keras.layers.Dense(7, activation='softmax', name=\"output\")(l)\n",
        "\n",
        "# Use inputs and outputs to construct a final model\n",
        "model = tf.keras.Model(inputs=[text_input], outputs = [l])"
      ]
    },
    {
      "cell_type": "code",
      "execution_count": null,
      "metadata": {
        "colab": {
          "base_uri": "https://localhost:8080/"
        },
        "id": "by-JCTzDv4i5",
        "outputId": "928333cd-2ded-4762-8bc2-b7eb2933adb7"
      },
      "outputs": [
        {
          "output_type": "stream",
          "name": "stdout",
          "text": [
            "Model: \"model\"\n",
            "__________________________________________________________________________________________________\n",
            " Layer (type)                   Output Shape         Param #     Connected to                     \n",
            "==================================================================================================\n",
            " text (InputLayer)              [(None,)]            0           []                               \n",
            "                                                                                                  \n",
            " keras_layer (KerasLayer)       {'input_word_ids':   0           ['text[0][0]']                   \n",
            "                                (None, 128),                                                      \n",
            "                                 'input_type_ids':                                                \n",
            "                                (None, 128),                                                      \n",
            "                                 'input_mask': (Non                                               \n",
            "                                e, 128)}                                                          \n",
            "                                                                                                  \n",
            " keras_layer_1 (KerasLayer)     {'encoder_outputs':  335141889   ['keras_layer[0][0]',            \n",
            "                                 [(None, 128, 1024)               'keras_layer[0][1]',            \n",
            "                                , (None, 128, 1024)               'keras_layer[0][2]']            \n",
            "                                , (None, 128, 1024)                                               \n",
            "                                , (None, 128, 1024)                                               \n",
            "                                , (None, 128, 1024)                                               \n",
            "                                , (None, 128, 1024)                                               \n",
            "                                , (None, 128, 1024)                                               \n",
            "                                , (None, 128, 1024)                                               \n",
            "                                , (None, 128, 1024)                                               \n",
            "                                , (None, 128, 1024)                                               \n",
            "                                , (None, 128, 1024)                                               \n",
            "                                , (None, 128, 1024)                                               \n",
            "                                , (None, 128, 1024)                                               \n",
            "                                , (None, 128, 1024)                                               \n",
            "                                , (None, 128, 1024)                                               \n",
            "                                , (None, 128, 1024)                                               \n",
            "                                , (None, 128, 1024)                                               \n",
            "                                , (None, 128, 1024)                                               \n",
            "                                , (None, 128, 1024)                                               \n",
            "                                , (None, 128, 1024)                                               \n",
            "                                , (None, 128, 1024)                                               \n",
            "                                , (None, 128, 1024)                                               \n",
            "                                , (None, 128, 1024)                                               \n",
            "                                , (None, 128, 1024)                                               \n",
            "                                ],                                                                \n",
            "                                 'pooled_output': (                                               \n",
            "                                None, 1024),                                                      \n",
            "                                 'sequence_output':                                               \n",
            "                                 (None, 128, 1024),                                               \n",
            "                                 'default': (None,                                                \n",
            "                                1024)}                                                            \n",
            "                                                                                                  \n",
            " dropout (Dropout)              (None, 1024)         0           ['keras_layer_1[0][25]']         \n",
            "                                                                                                  \n",
            " output (Dense)                 (None, 7)            7175        ['dropout[0][0]']                \n",
            "                                                                                                  \n",
            "==================================================================================================\n",
            "Total params: 335,149,064\n",
            "Trainable params: 7,175\n",
            "Non-trainable params: 335,141,889\n",
            "__________________________________________________________________________________________________\n"
          ]
        }
      ],
      "source": [
        "model.summary()"
      ]
    },
    {
      "cell_type": "code",
      "execution_count": null,
      "metadata": {
        "id": "3dJ0dXr3v7iq"
      },
      "outputs": [],
      "source": [
        "model.compile(optimizer='adam',\n",
        "              loss='categorical_crossentropy',\n",
        "              metrics=['accuracy'])"
      ]
    },
    {
      "cell_type": "code",
      "execution_count": null,
      "metadata": {
        "id": "rXXsLaa4o0D0"
      },
      "outputs": [],
      "source": [
        ""
      ]
    },
    {
      "cell_type": "markdown",
      "metadata": {
        "id": "PyvIZJ0ry227"
      },
      "source": [
        "# Model Run\n"
      ]
    },
    {
      "cell_type": "code",
      "execution_count": null,
      "metadata": {
        "colab": {
          "base_uri": "https://localhost:8080/"
        },
        "id": "ul_ND_NRwhbh",
        "outputId": "bb15c1ac-6723-42ff-fdba-af0904f016bd"
      },
      "outputs": [
        {
          "output_type": "stream",
          "name": "stdout",
          "text": [
            "Epoch 1/5\n",
            "23087/23087 [==============================] - 2139s 92ms/step - loss: 1.4668 - accuracy: 0.5047\n",
            "Epoch 2/5\n",
            "23087/23087 [==============================] - 2144s 93ms/step - loss: 1.4277 - accuracy: 0.5158\n",
            "Epoch 3/5\n",
            "23087/23087 [==============================] - 2140s 93ms/step - loss: 1.4274 - accuracy: 0.5170\n",
            "Epoch 4/5\n",
            "23087/23087 [==============================] - 2139s 93ms/step - loss: 1.4299 - accuracy: 0.5171\n",
            "Epoch 5/5\n",
            "23087/23087 [==============================] - 2138s 93ms/step - loss: 1.4290 - accuracy: 0.5173\n"
          ]
        }
      ],
      "source": [
        "model.fit(X_train, y_train, \n",
        "          epochs = 5,\n",
        "          batch_size = 5)\n",
        "\n",
        "VER=3\n",
        "model.save_weights(f'/content/drive/MyDrive/python/v{VER}.h5')\n",
        "model.save(f'/content/drive/MyDrive/python/v{VER}model.h5')\n",
        "\n"
      ]
    },
    {
      "cell_type": "code",
      "execution_count": null,
      "metadata": {
        "colab": {
          "base_uri": "https://localhost:8080/"
        },
        "id": "ZKz88B8veU6f",
        "outputId": "03ec99f0-55f7-4e83-afb6-6b0811b31374"
      },
      "outputs": [
        {
          "output_type": "stream",
          "name": "stdout",
          "text": [
            "902/902 [==============================] - 476s 526ms/step - loss: 1.6050 - accuracy: 0.5265\n"
          ]
        },
        {
          "output_type": "execute_result",
          "data": {
            "text/plain": [
              "[1.605013132095337, 0.5264562368392944]"
            ]
          },
          "metadata": {},
          "execution_count": 36
        }
      ],
      "source": [
        "model.evaluate(X_test, y_test)"
      ]
    },
    {
      "cell_type": "code",
      "execution_count": null,
      "metadata": {
        "id": "Ay_W8Pj1173n"
      },
      "outputs": [],
      "source": [
        ""
      ]
    },
    {
      "cell_type": "markdown",
      "metadata": {
        "id": "YpxM3-3M2hzh"
      },
      "source": [
        "# Preprocessing B"
      ]
    },
    {
      "cell_type": "code",
      "execution_count": null,
      "metadata": {
        "id": "lxnEsWmH2-Lv",
        "colab": {
          "base_uri": "https://localhost:8080/",
          "height": 840
        },
        "outputId": "63713024-fbe1-4f71-fe9e-c054389db418"
      },
      "outputs": [
        {
          "output_type": "execute_result",
          "data": {
            "text/html": [
              "\n",
              "  <div id=\"df-ccfc931c-6e74-48ba-b4b7-729791641e81\">\n",
              "    <div class=\"colab-df-container\">\n",
              "      <div>\n",
              "<style scoped>\n",
              "    .dataframe tbody tr th:only-of-type {\n",
              "        vertical-align: middle;\n",
              "    }\n",
              "\n",
              "    .dataframe tbody tr th {\n",
              "        vertical-align: top;\n",
              "    }\n",
              "\n",
              "    .dataframe thead th {\n",
              "        text-align: right;\n",
              "    }\n",
              "</style>\n",
              "<table border=\"1\" class=\"dataframe\">\n",
              "  <thead>\n",
              "    <tr style=\"text-align: right;\">\n",
              "      <th></th>\n",
              "      <th>id</th>\n",
              "      <th>discourse_id</th>\n",
              "      <th>discourse_start</th>\n",
              "      <th>discourse_end</th>\n",
              "      <th>discourse_text</th>\n",
              "      <th>discourse_type</th>\n",
              "      <th>discourse_type_num</th>\n",
              "      <th>predictionstring</th>\n",
              "      <th>discourse_type_</th>\n",
              "    </tr>\n",
              "  </thead>\n",
              "  <tbody>\n",
              "    <tr>\n",
              "      <th>0</th>\n",
              "      <td>423A1CA112E2</td>\n",
              "      <td>1.622628e+12</td>\n",
              "      <td>8.0</td>\n",
              "      <td>229.0</td>\n",
              "      <td>Modern humans today are always on their phone....</td>\n",
              "      <td>Lead</td>\n",
              "      <td>Lead 1</td>\n",
              "      <td>1 2 3 4 5 6 7 8 9 10 11 12 13 14 15 16 17 18 1...</td>\n",
              "      <td>0</td>\n",
              "    </tr>\n",
              "    <tr>\n",
              "      <th>1</th>\n",
              "      <td>423A1CA112E2</td>\n",
              "      <td>1.622628e+12</td>\n",
              "      <td>230.0</td>\n",
              "      <td>312.0</td>\n",
              "      <td>They are some really bad consequences when stu...</td>\n",
              "      <td>Position</td>\n",
              "      <td>Position 1</td>\n",
              "      <td>45 46 47 48 49 50 51 52 53 54 55 56 57 58 59</td>\n",
              "      <td>1</td>\n",
              "    </tr>\n",
              "    <tr>\n",
              "      <th>2</th>\n",
              "      <td>423A1CA112E2</td>\n",
              "      <td>1.622628e+12</td>\n",
              "      <td>313.0</td>\n",
              "      <td>401.0</td>\n",
              "      <td>Some certain areas in the United States ban ph...</td>\n",
              "      <td>Evidence</td>\n",
              "      <td>Evidence 1</td>\n",
              "      <td>60 61 62 63 64 65 66 67 68 69 70 71 72 73 74 75</td>\n",
              "      <td>2</td>\n",
              "    </tr>\n",
              "    <tr>\n",
              "      <th>3</th>\n",
              "      <td>423A1CA112E2</td>\n",
              "      <td>1.622628e+12</td>\n",
              "      <td>402.0</td>\n",
              "      <td>758.0</td>\n",
              "      <td>When people have phones, they know about certa...</td>\n",
              "      <td>Evidence</td>\n",
              "      <td>Evidence 2</td>\n",
              "      <td>76 77 78 79 80 81 82 83 84 85 86 87 88 89 90 9...</td>\n",
              "      <td>2</td>\n",
              "    </tr>\n",
              "    <tr>\n",
              "      <th>4</th>\n",
              "      <td>423A1CA112E2</td>\n",
              "      <td>1.622628e+12</td>\n",
              "      <td>759.0</td>\n",
              "      <td>886.0</td>\n",
              "      <td>Driving is one of the way how to get around. P...</td>\n",
              "      <td>Claim</td>\n",
              "      <td>Claim 1</td>\n",
              "      <td>139 140 141 142 143 144 145 146 147 148 149 15...</td>\n",
              "      <td>3</td>\n",
              "    </tr>\n",
              "    <tr>\n",
              "      <th>...</th>\n",
              "      <td>...</td>\n",
              "      <td>...</td>\n",
              "      <td>...</td>\n",
              "      <td>...</td>\n",
              "      <td>...</td>\n",
              "      <td>...</td>\n",
              "      <td>...</td>\n",
              "      <td>...</td>\n",
              "      <td>...</td>\n",
              "    </tr>\n",
              "    <tr>\n",
              "      <th>144288</th>\n",
              "      <td>4C471936CD75</td>\n",
              "      <td>1.618153e+12</td>\n",
              "      <td>2234.0</td>\n",
              "      <td>3203.0</td>\n",
              "      <td>if I'm not sure what college I want to attend...</td>\n",
              "      <td>Evidence</td>\n",
              "      <td>Evidence 2</td>\n",
              "      <td>386 387 388 389 390 391 392 393 394 395 396 39...</td>\n",
              "      <td>2</td>\n",
              "    </tr>\n",
              "    <tr>\n",
              "      <th>144289</th>\n",
              "      <td>4C471936CD75</td>\n",
              "      <td>1.618153e+12</td>\n",
              "      <td>3221.0</td>\n",
              "      <td>4509.0</td>\n",
              "      <td>seeking multiple opinions before making a har...</td>\n",
              "      <td>Evidence</td>\n",
              "      <td>Evidence 3</td>\n",
              "      <td>576 577 578 579 580 581 582 583 584 585 586 58...</td>\n",
              "      <td>2</td>\n",
              "    </tr>\n",
              "    <tr>\n",
              "      <th>144290</th>\n",
              "      <td>4C471936CD75</td>\n",
              "      <td>1.618025e+12</td>\n",
              "      <td>4510.0</td>\n",
              "      <td>4570.0</td>\n",
              "      <td>it is better to seek multiple opinions instead...</td>\n",
              "      <td>Position</td>\n",
              "      <td>Position 1</td>\n",
              "      <td>828 829 830 831 832 833 834 835 836 837 838</td>\n",
              "      <td>1</td>\n",
              "    </tr>\n",
              "    <tr>\n",
              "      <th>144291</th>\n",
              "      <td>4C471936CD75</td>\n",
              "      <td>1.618025e+12</td>\n",
              "      <td>4570.0</td>\n",
              "      <td>4922.0</td>\n",
              "      <td>The impact of asking people to help you make a...</td>\n",
              "      <td>Evidence</td>\n",
              "      <td>Evidence 4</td>\n",
              "      <td>839 840 841 842 843 844 845 846 847 848 849 85...</td>\n",
              "      <td>2</td>\n",
              "    </tr>\n",
              "    <tr>\n",
              "      <th>144292</th>\n",
              "      <td>4C471936CD75</td>\n",
              "      <td>1.618025e+12</td>\n",
              "      <td>4935.0</td>\n",
              "      <td>5825.0</td>\n",
              "      <td>there are many other reasons one might want to...</td>\n",
              "      <td>Concluding Statement</td>\n",
              "      <td>Concluding Statement 1</td>\n",
              "      <td>905 906 907 908 909 910 911 912 913 914 915 91...</td>\n",
              "      <td>4</td>\n",
              "    </tr>\n",
              "  </tbody>\n",
              "</table>\n",
              "<p>144293 rows × 9 columns</p>\n",
              "</div>\n",
              "      <button class=\"colab-df-convert\" onclick=\"convertToInteractive('df-ccfc931c-6e74-48ba-b4b7-729791641e81')\"\n",
              "              title=\"Convert this dataframe to an interactive table.\"\n",
              "              style=\"display:none;\">\n",
              "        \n",
              "  <svg xmlns=\"http://www.w3.org/2000/svg\" height=\"24px\"viewBox=\"0 0 24 24\"\n",
              "       width=\"24px\">\n",
              "    <path d=\"M0 0h24v24H0V0z\" fill=\"none\"/>\n",
              "    <path d=\"M18.56 5.44l.94 2.06.94-2.06 2.06-.94-2.06-.94-.94-2.06-.94 2.06-2.06.94zm-11 1L8.5 8.5l.94-2.06 2.06-.94-2.06-.94L8.5 2.5l-.94 2.06-2.06.94zm10 10l.94 2.06.94-2.06 2.06-.94-2.06-.94-.94-2.06-.94 2.06-2.06.94z\"/><path d=\"M17.41 7.96l-1.37-1.37c-.4-.4-.92-.59-1.43-.59-.52 0-1.04.2-1.43.59L10.3 9.45l-7.72 7.72c-.78.78-.78 2.05 0 2.83L4 21.41c.39.39.9.59 1.41.59.51 0 1.02-.2 1.41-.59l7.78-7.78 2.81-2.81c.8-.78.8-2.07 0-2.86zM5.41 20L4 18.59l7.72-7.72 1.47 1.35L5.41 20z\"/>\n",
              "  </svg>\n",
              "      </button>\n",
              "      \n",
              "  <style>\n",
              "    .colab-df-container {\n",
              "      display:flex;\n",
              "      flex-wrap:wrap;\n",
              "      gap: 12px;\n",
              "    }\n",
              "\n",
              "    .colab-df-convert {\n",
              "      background-color: #E8F0FE;\n",
              "      border: none;\n",
              "      border-radius: 50%;\n",
              "      cursor: pointer;\n",
              "      display: none;\n",
              "      fill: #1967D2;\n",
              "      height: 32px;\n",
              "      padding: 0 0 0 0;\n",
              "      width: 32px;\n",
              "    }\n",
              "\n",
              "    .colab-df-convert:hover {\n",
              "      background-color: #E2EBFA;\n",
              "      box-shadow: 0px 1px 2px rgba(60, 64, 67, 0.3), 0px 1px 3px 1px rgba(60, 64, 67, 0.15);\n",
              "      fill: #174EA6;\n",
              "    }\n",
              "\n",
              "    [theme=dark] .colab-df-convert {\n",
              "      background-color: #3B4455;\n",
              "      fill: #D2E3FC;\n",
              "    }\n",
              "\n",
              "    [theme=dark] .colab-df-convert:hover {\n",
              "      background-color: #434B5C;\n",
              "      box-shadow: 0px 1px 3px 1px rgba(0, 0, 0, 0.15);\n",
              "      filter: drop-shadow(0px 1px 2px rgba(0, 0, 0, 0.3));\n",
              "      fill: #FFFFFF;\n",
              "    }\n",
              "  </style>\n",
              "\n",
              "      <script>\n",
              "        const buttonEl =\n",
              "          document.querySelector('#df-ccfc931c-6e74-48ba-b4b7-729791641e81 button.colab-df-convert');\n",
              "        buttonEl.style.display =\n",
              "          google.colab.kernel.accessAllowed ? 'block' : 'none';\n",
              "\n",
              "        async function convertToInteractive(key) {\n",
              "          const element = document.querySelector('#df-ccfc931c-6e74-48ba-b4b7-729791641e81');\n",
              "          const dataTable =\n",
              "            await google.colab.kernel.invokeFunction('convertToInteractive',\n",
              "                                                     [key], {});\n",
              "          if (!dataTable) return;\n",
              "\n",
              "          const docLinkHtml = 'Like what you see? Visit the ' +\n",
              "            '<a target=\"_blank\" href=https://colab.research.google.com/notebooks/data_table.ipynb>data table notebook</a>'\n",
              "            + ' to learn more about interactive tables.';\n",
              "          element.innerHTML = '';\n",
              "          dataTable['output_type'] = 'display_data';\n",
              "          await google.colab.output.renderOutput(dataTable, element);\n",
              "          const docLink = document.createElement('div');\n",
              "          docLink.innerHTML = docLinkHtml;\n",
              "          element.appendChild(docLink);\n",
              "        }\n",
              "      </script>\n",
              "    </div>\n",
              "  </div>\n",
              "  "
            ],
            "text/plain": [
              "                  id  ...  discourse_type_\n",
              "0       423A1CA112E2  ...                0\n",
              "1       423A1CA112E2  ...                1\n",
              "2       423A1CA112E2  ...                2\n",
              "3       423A1CA112E2  ...                2\n",
              "4       423A1CA112E2  ...                3\n",
              "...              ...  ...              ...\n",
              "144288  4C471936CD75  ...                2\n",
              "144289  4C471936CD75  ...                2\n",
              "144290  4C471936CD75  ...                1\n",
              "144291  4C471936CD75  ...                2\n",
              "144292  4C471936CD75  ...                4\n",
              "\n",
              "[144293 rows x 9 columns]"
            ]
          },
          "metadata": {},
          "execution_count": 24
        }
      ],
      "source": [
        "def type(x):\n",
        "  if x=='Lead':\n",
        "    return 0\n",
        "  elif x=='Position':\n",
        "    return 1\n",
        "  elif x=='Evidence':\n",
        "    return 2\n",
        "  elif x=='Claim':\n",
        "    return 3 \n",
        "  elif x=='Concluding Statement':\n",
        "    return 4\n",
        "  elif x=='Counterclaim':\n",
        "    return 5\n",
        "  elif x=='Rebuttal':\n",
        "    return 6\n",
        "\n",
        "df['discourse_type_']=df.discourse_type.apply(type)\n",
        "df"
      ]
    },
    {
      "cell_type": "code",
      "execution_count": null,
      "metadata": {
        "id": "0sQVTSZX3TB5",
        "colab": {
          "base_uri": "https://localhost:8080/"
        },
        "outputId": "f3b4c045-7384-4134-ee42-2e164057d96d"
      },
      "outputs": [
        {
          "output_type": "execute_result",
          "data": {
            "text/plain": [
              "('Some certain areas in the United States ban phones from class rooms just because of it. ',\n",
              " 2)"
            ]
          },
          "metadata": {},
          "execution_count": 25
        }
      ],
      "source": [
        "from sklearn.model_selection import train_test_split\n",
        "X=df['discourse_text']\n",
        "y=df['discourse_type_']\n",
        "\n",
        "X_train, X_test, y_train, y_test = train_test_split(X,y, test_size=0.2, random_state=42)#,shuffle=False)\n",
        "\n",
        "X_train[2],y_train[2]"
      ]
    },
    {
      "cell_type": "code",
      "source": [
        "num_classes=7\n",
        "y_train = tf.keras.utils.to_categorical(y_train, num_classes)\n",
        "y_test = tf.keras.utils.to_categorical(y_test, num_classes)\n",
        "y_train[2]"
      ],
      "metadata": {
        "colab": {
          "base_uri": "https://localhost:8080/"
        },
        "id": "82TUfZUmHvUD",
        "outputId": "a617a350-7628-432e-afc3-6d1072d98ec5"
      },
      "execution_count": null,
      "outputs": [
        {
          "output_type": "execute_result",
          "data": {
            "text/plain": [
              "array([0., 0., 1., 0., 0., 0., 0.], dtype=float32)"
            ]
          },
          "metadata": {},
          "execution_count": 26
        }
      ]
    },
    {
      "cell_type": "code",
      "execution_count": null,
      "metadata": {
        "id": "nJytDnBH2uNe"
      },
      "outputs": [],
      "source": [
        "pip install tensorflow_text >log.txt"
      ]
    },
    {
      "cell_type": "code",
      "execution_count": null,
      "metadata": {
        "id": "e-IPYSTZ3fD0"
      },
      "outputs": [],
      "source": [
        "import tensorflow as tf\n",
        "import tensorflow_hub as hub\n",
        "import tensorflow_text as text"
      ]
    },
    {
      "cell_type": "code",
      "execution_count": null,
      "metadata": {
        "id": "xW59-PKy3e-u"
      },
      "outputs": [],
      "source": [
        "bert_preprocess = hub.KerasLayer(\"https://tfhub.dev/tensorflow/bert_en_uncased_preprocess/3\")\n",
        "bert_encoder = hub.KerasLayer(\"https://tfhub.dev/tensorflow/bert_en_wwm_uncased_L-24_H-1024_A-16/4\")"
      ]
    },
    {
      "cell_type": "code",
      "execution_count": null,
      "metadata": {
        "id": "n3mff3Ao3e6A",
        "colab": {
          "base_uri": "https://localhost:8080/"
        },
        "outputId": "d11df432-4a70-45b9-dc51-f204366c9209"
      },
      "outputs": [
        {
          "output_type": "execute_result",
          "data": {
            "text/plain": [
              "(144293, 115434, 28859, 0)"
            ]
          },
          "metadata": {},
          "execution_count": 30
        }
      ],
      "source": [
        "len(X),len(X_train),len(X_test),len(X)-len(X_train)-len(X_test)"
      ]
    },
    {
      "cell_type": "code",
      "execution_count": null,
      "metadata": {
        "id": "kulZJV639zK5",
        "colab": {
          "base_uri": "https://localhost:8080/"
        },
        "outputId": "f9f83864-9851-48d3-8c24-796bc6687a02"
      },
      "outputs": [
        {
          "output_type": "execute_result",
          "data": {
            "text/plain": [
              "(5,)"
            ]
          },
          "metadata": {},
          "execution_count": 31
        }
      ],
      "source": [
        "X_train[:5].shape"
      ]
    },
    {
      "cell_type": "code",
      "execution_count": null,
      "metadata": {
        "id": "yuEILYve-aku",
        "colab": {
          "base_uri": "https://localhost:8080/",
          "height": 37
        },
        "outputId": "b6f3e605-a36a-45e3-e632-c2fead15ed91"
      },
      "outputs": [
        {
          "output_type": "execute_result",
          "data": {
            "application/vnd.google.colaboratory.intrinsic+json": {
              "type": "string"
            },
            "text/plain": [
              "'have more free time'"
            ]
          },
          "metadata": {},
          "execution_count": 32
        }
      ],
      "source": [
        "X[122438]"
      ]
    },
    {
      "cell_type": "code",
      "execution_count": null,
      "metadata": {
        "id": "XLkivAG83e1R"
      },
      "outputs": [],
      "source": [
        "# Bert layers\n",
        "text_input = tf.keras.layers.Input(shape=(), dtype=tf.string, name='text')\n",
        "preprocessed_text = bert_preprocess(text_input)\n",
        "outputs = bert_encoder(preprocessed_text)\n",
        "\n",
        "# Neural network layers\n",
        "l = tf.keras.layers.Dropout(0.1, name=\"dropout\")(outputs['pooled_output'])\n",
        "l = tf.keras.layers.Dense(7, activation='softmax', name=\"output\")(l)\n",
        "\n",
        "# Use inputs and outputs to construct a final model\n",
        "model = tf.keras.Model(inputs=[text_input], outputs = [l])"
      ]
    },
    {
      "cell_type": "code",
      "execution_count": null,
      "metadata": {
        "id": "1hp0gl5b3ewx",
        "colab": {
          "base_uri": "https://localhost:8080/"
        },
        "outputId": "2ffaf2a6-9305-4562-ad71-d2c03f8aa486"
      },
      "outputs": [
        {
          "output_type": "stream",
          "name": "stdout",
          "text": [
            "Model: \"model\"\n",
            "__________________________________________________________________________________________________\n",
            " Layer (type)                   Output Shape         Param #     Connected to                     \n",
            "==================================================================================================\n",
            " text (InputLayer)              [(None,)]            0           []                               \n",
            "                                                                                                  \n",
            " keras_layer (KerasLayer)       {'input_type_ids':   0           ['text[0][0]']                   \n",
            "                                (None, 128),                                                      \n",
            "                                 'input_mask': (Non                                               \n",
            "                                e, 128),                                                          \n",
            "                                 'input_word_ids':                                                \n",
            "                                (None, 128)}                                                      \n",
            "                                                                                                  \n",
            " keras_layer_1 (KerasLayer)     {'default': (None,   335141889   ['keras_layer[0][0]',            \n",
            "                                1024),                            'keras_layer[0][1]',            \n",
            "                                 'pooled_output': (               'keras_layer[0][2]']            \n",
            "                                None, 1024),                                                      \n",
            "                                 'sequence_output':                                               \n",
            "                                 (None, 128, 1024),                                               \n",
            "                                 'encoder_outputs':                                               \n",
            "                                 [(None, 128, 1024)                                               \n",
            "                                , (None, 128, 1024)                                               \n",
            "                                , (None, 128, 1024)                                               \n",
            "                                , (None, 128, 1024)                                               \n",
            "                                , (None, 128, 1024)                                               \n",
            "                                , (None, 128, 1024)                                               \n",
            "                                , (None, 128, 1024)                                               \n",
            "                                , (None, 128, 1024)                                               \n",
            "                                , (None, 128, 1024)                                               \n",
            "                                , (None, 128, 1024)                                               \n",
            "                                , (None, 128, 1024)                                               \n",
            "                                , (None, 128, 1024)                                               \n",
            "                                , (None, 128, 1024)                                               \n",
            "                                , (None, 128, 1024)                                               \n",
            "                                , (None, 128, 1024)                                               \n",
            "                                , (None, 128, 1024)                                               \n",
            "                                , (None, 128, 1024)                                               \n",
            "                                , (None, 128, 1024)                                               \n",
            "                                , (None, 128, 1024)                                               \n",
            "                                , (None, 128, 1024)                                               \n",
            "                                , (None, 128, 1024)                                               \n",
            "                                , (None, 128, 1024)                                               \n",
            "                                , (None, 128, 1024)                                               \n",
            "                                , (None, 128, 1024)                                               \n",
            "                                ]}                                                                \n",
            "                                                                                                  \n",
            " dropout (Dropout)              (None, 1024)         0           ['keras_layer_1[0][25]']         \n",
            "                                                                                                  \n",
            " output (Dense)                 (None, 7)            7175        ['dropout[0][0]']                \n",
            "                                                                                                  \n",
            "==================================================================================================\n",
            "Total params: 335,149,064\n",
            "Trainable params: 7,175\n",
            "Non-trainable params: 335,141,889\n",
            "__________________________________________________________________________________________________\n"
          ]
        }
      ],
      "source": [
        "model.summary()"
      ]
    },
    {
      "cell_type": "code",
      "execution_count": null,
      "metadata": {
        "id": "P-8Zz0GZ3099"
      },
      "outputs": [],
      "source": [
        "model.compile(optimizer='adam',\n",
        "              loss='categorical_crossentropy',\n",
        "              metrics=['accuracy'])"
      ]
    },
    {
      "cell_type": "markdown",
      "source": [
        "# Model run"
      ],
      "metadata": {
        "id": "uquzUMjmcBCl"
      }
    },
    {
      "cell_type": "code",
      "execution_count": null,
      "metadata": {
        "id": "qlqZb2qk3036",
        "colab": {
          "base_uri": "https://localhost:8080/"
        },
        "outputId": "9302a638-57fb-4fa3-d4b7-2701645dfbae"
      },
      "outputs": [
        {
          "output_type": "stream",
          "name": "stdout",
          "text": [
            "Epoch 1/5\n",
            "23087/23087 [==============================] - 2197s 94ms/step - loss: 1.4444 - accuracy: 0.5194\n",
            "Epoch 2/5\n",
            "23087/23087 [==============================] - 2171s 94ms/step - loss: 1.4081 - accuracy: 0.5290\n",
            "Epoch 3/5\n",
            "23087/23087 [==============================] - 2168s 94ms/step - loss: 1.4007 - accuracy: 0.5313\n",
            "Epoch 4/5\n",
            "23087/23087 [==============================] - 2166s 94ms/step - loss: 1.4052 - accuracy: 0.5301\n",
            "Epoch 5/5\n",
            "23087/23087 [==============================] - 2170s 94ms/step - loss: 1.4054 - accuracy: 0.5282\n"
          ]
        }
      ],
      "source": [
        "model.fit(X_train, y_train, \n",
        "          epochs = 5,\n",
        "          batch_size = 5)\n",
        "\n",
        "VER=4\n",
        "model.save_weights(f'/content/drive/MyDrive/python/v{VER}.h5')\n",
        "model.save(f'/content/drive/MyDrive/python/v{VER}model.h5')\n",
        "\n"
      ]
    },
    {
      "cell_type": "code",
      "execution_count": null,
      "metadata": {
        "id": "mh3LtUOm3-O2",
        "colab": {
          "base_uri": "https://localhost:8080/"
        },
        "outputId": "5de60f73-7ca4-4aae-d889-594f92d7e5cc"
      },
      "outputs": [
        {
          "output_type": "stream",
          "name": "stdout",
          "text": [
            "902/902 [==============================] - 487s 539ms/step - loss: 1.1913 - accuracy: 0.5848\n"
          ]
        },
        {
          "output_type": "execute_result",
          "data": {
            "text/plain": [
              "[1.1913479566574097, 0.5847742557525635]"
            ]
          },
          "metadata": {},
          "execution_count": 37
        }
      ],
      "source": [
        "model.evaluate(X_test, y_test)"
      ]
    },
    {
      "cell_type": "code",
      "source": [
        ""
      ],
      "metadata": {
        "id": "BEzSF2f7IM8l"
      },
      "execution_count": null,
      "outputs": []
    },
    {
      "cell_type": "markdown",
      "source": [
        "# Best Model"
      ],
      "metadata": {
        "id": "UlVEsl_pgIU2"
      }
    },
    {
      "cell_type": "markdown",
      "source": [
        "## preprocessing"
      ],
      "metadata": {
        "id": "x_t2EaGqhUYa"
      }
    },
    {
      "cell_type": "code",
      "source": [
        "pip install tensorflow_text >log.txt"
      ],
      "metadata": {
        "id": "twElQRi8i51s"
      },
      "execution_count": null,
      "outputs": []
    },
    {
      "cell_type": "code",
      "source": [
        "import tensorflow as tf\n",
        "import tensorflow_hub as hub\n",
        "import tensorflow_text as text"
      ],
      "metadata": {
        "id": "u0uEl7sSg8AV"
      },
      "execution_count": null,
      "outputs": []
    },
    {
      "cell_type": "code",
      "source": [
        "def type(x):\n",
        "  if x=='Lead':\n",
        "    return 0\n",
        "  elif x=='Position':\n",
        "    return 1\n",
        "  elif x=='Evidence':\n",
        "    return 2\n",
        "  elif x=='Claim':\n",
        "    return 3 \n",
        "  elif x=='Concluding Statement':\n",
        "    return 4\n",
        "  elif x=='Counterclaim':\n",
        "    return 5\n",
        "  elif x=='Rebuttal':\n",
        "    return 6\n",
        "\n",
        "df['discourse_type_']=df.discourse_type.apply(type)\n",
        "\n",
        "from sklearn.model_selection import train_test_split\n",
        "X=df['discourse_text']\n",
        "y=df['discourse_type_']\n",
        "\n",
        "X_train, X_test, y_train, y_test = train_test_split(X,y, test_size=0.2, random_state=42)#,shuffle=False)\n",
        "\n",
        "num_classes=7\n",
        "y_train = tf.keras.utils.to_categorical(y_train, num_classes)\n",
        "y_test = tf.keras.utils.to_categorical(y_test, num_classes)\n",
        "\n",
        "bert_preprocess = hub.KerasLayer(\"https://tfhub.dev/tensorflow/bert_en_uncased_preprocess/3\")\n",
        "bert_encoder = hub.KerasLayer(\"https://tfhub.dev/tensorflow/bert_en_uncased_L-12_H-768_A-12/4\")"
      ],
      "metadata": {
        "id": "rsgibiOygO30"
      },
      "execution_count": null,
      "outputs": []
    },
    {
      "cell_type": "code",
      "source": [
        "X_train[10],y_train[10]"
      ],
      "metadata": {
        "colab": {
          "base_uri": "https://localhost:8080/"
        },
        "id": "qvsVdgyBJOVB",
        "outputId": "56a8fd1e-c976-4b67-ea66-3cf8fa36252d"
      },
      "execution_count": null,
      "outputs": [
        {
          "output_type": "execute_result",
          "data": {
            "text/plain": [
              "('Drivers should not be able to use phones while operating a vehicle.',\n",
              " array([0., 0., 1., 0., 0., 0., 0.], dtype=float32))"
            ]
          },
          "metadata": {},
          "execution_count": 35
        }
      ]
    },
    {
      "cell_type": "markdown",
      "source": [
        "## Build model"
      ],
      "metadata": {
        "id": "p_QPYTAahdrD"
      }
    },
    {
      "cell_type": "code",
      "source": [
        "# Bert layers\n",
        "bert_preprocess = hub.KerasLayer(\"https://tfhub.dev/tensorflow/bert_en_uncased_preprocess/3\")\n",
        "bert_encoder = hub.KerasLayer(\"https://tfhub.dev/tensorflow/bert_en_uncased_L-12_H-768_A-12/4\")\n",
        "\n",
        "text_input = tf.keras.layers.Input(shape=(), dtype=tf.string, name='text')\n",
        "preprocessed_text = bert_preprocess(text_input)\n",
        "outputs = bert_encoder(preprocessed_text)\n",
        "\n",
        "# Neural network layers\n",
        "l = tf.keras.layers.Dropout(0.1, name=\"dropout\")(outputs['pooled_output'])\n",
        "l = tf.keras.layers.Dense(7, activation='softmax', name=\"output\")(l)\n",
        "\n",
        "# Use inputs and outputs to construct a final model\n",
        "model = tf.keras.Model(inputs=[text_input], outputs = [l])\n",
        "\n",
        "model.compile(optimizer='adam',\n",
        "              loss='categorical_crossentropy',\n",
        "              metrics=['accuracy'])\n",
        "\n",
        "model.summary()"
      ],
      "metadata": {
        "colab": {
          "base_uri": "https://localhost:8080/"
        },
        "id": "QgwZKH50hgcQ",
        "outputId": "54db8397-b748-471c-9df8-8b6a1d350dab"
      },
      "execution_count": null,
      "outputs": [
        {
          "output_type": "stream",
          "name": "stdout",
          "text": [
            "Model: \"model\"\n",
            "__________________________________________________________________________________________________\n",
            " Layer (type)                   Output Shape         Param #     Connected to                     \n",
            "==================================================================================================\n",
            " text (InputLayer)              [(None,)]            0           []                               \n",
            "                                                                                                  \n",
            " keras_layer (KerasLayer)       {'input_type_ids':   0           ['text[0][0]']                   \n",
            "                                (None, 128),                                                      \n",
            "                                 'input_word_ids':                                                \n",
            "                                (None, 128),                                                      \n",
            "                                 'input_mask': (Non                                               \n",
            "                                e, 128)}                                                          \n",
            "                                                                                                  \n",
            " keras_layer_1 (KerasLayer)     {'pooled_output': (  109482241   ['keras_layer[0][0]',            \n",
            "                                None, 768),                       'keras_layer[0][1]',            \n",
            "                                 'encoder_outputs':               'keras_layer[0][2]']            \n",
            "                                 [(None, 128, 768),                                               \n",
            "                                 (None, 128, 768),                                                \n",
            "                                 (None, 128, 768),                                                \n",
            "                                 (None, 128, 768),                                                \n",
            "                                 (None, 128, 768),                                                \n",
            "                                 (None, 128, 768),                                                \n",
            "                                 (None, 128, 768),                                                \n",
            "                                 (None, 128, 768),                                                \n",
            "                                 (None, 128, 768),                                                \n",
            "                                 (None, 128, 768),                                                \n",
            "                                 (None, 128, 768),                                                \n",
            "                                 (None, 128, 768)],                                               \n",
            "                                 'default': (None,                                                \n",
            "                                768),                                                             \n",
            "                                 'sequence_output':                                               \n",
            "                                 (None, 128, 768)}                                                \n",
            "                                                                                                  \n",
            " dropout (Dropout)              (None, 768)          0           ['keras_layer_1[0][13]']         \n",
            "                                                                                                  \n",
            " output (Dense)                 (None, 7)            5383        ['dropout[0][0]']                \n",
            "                                                                                                  \n",
            "==================================================================================================\n",
            "Total params: 109,487,624\n",
            "Trainable params: 5,383\n",
            "Non-trainable params: 109,482,241\n",
            "__________________________________________________________________________________________________\n"
          ]
        }
      ]
    },
    {
      "cell_type": "markdown",
      "source": [
        "## Run and Save model"
      ],
      "metadata": {
        "id": "OqVlxI5ghxmP"
      }
    },
    {
      "cell_type": "code",
      "source": [
        "model.fit(X_train, y_train, \n",
        "          epochs = 20,\n",
        "          batch_size = 5)\n",
        "\n",
        "VER=5\n",
        "model.save_weights(f'/content/drive/MyDrive/python/v{VER}.h5')\n",
        "model.save(f'/content/drive/MyDrive/python/v{VER}model.h5')\n",
        "\n"
      ],
      "metadata": {
        "colab": {
          "base_uri": "https://localhost:8080/",
          "height": 232
        },
        "id": "I7LyGgbmh3_L",
        "outputId": "15bbb1b8-346e-4b8b-d3dc-b81acf22e67d"
      },
      "execution_count": null,
      "outputs": [
        {
          "output_type": "error",
          "ename": "NameError",
          "evalue": "ignored",
          "traceback": [
            "\u001b[0;31m---------------------------------------------------------------------------\u001b[0m",
            "\u001b[0;31mNameError\u001b[0m                                 Traceback (most recent call last)",
            "\u001b[0;32m<ipython-input-13-445ad1fb4777>\u001b[0m in \u001b[0;36m<module>\u001b[0;34m()\u001b[0m\n\u001b[0;32m----> 1\u001b[0;31m model.fit(X_train, y_train, \n\u001b[0m\u001b[1;32m      2\u001b[0m           \u001b[0mepochs\u001b[0m \u001b[0;34m=\u001b[0m \u001b[0;36m20\u001b[0m\u001b[0;34m,\u001b[0m\u001b[0;34m\u001b[0m\u001b[0;34m\u001b[0m\u001b[0m\n\u001b[1;32m      3\u001b[0m           batch_size = 5)\n\u001b[1;32m      4\u001b[0m \u001b[0;34m\u001b[0m\u001b[0m\n\u001b[1;32m      5\u001b[0m \u001b[0mVER\u001b[0m\u001b[0;34m=\u001b[0m\u001b[0;36m5\u001b[0m\u001b[0;34m\u001b[0m\u001b[0;34m\u001b[0m\u001b[0m\n",
            "\u001b[0;31mNameError\u001b[0m: name 'model' is not defined"
          ]
        }
      ]
    },
    {
      "cell_type": "code",
      "source": [
        ""
      ],
      "metadata": {
        "id": "os0-wqASvhSC"
      },
      "execution_count": null,
      "outputs": []
    },
    {
      "cell_type": "markdown",
      "source": [
        "# Load model,weight and predict"
      ],
      "metadata": {
        "id": "rsRqPeyBkmjx"
      }
    },
    {
      "cell_type": "code",
      "source": [
        "import numpy as np\n",
        "import tensorflow as tf\n",
        "from tensorflow import keras\n",
        "\n",
        "VER=5\n",
        "model = tf.keras.models.load_model(f'/content/drive/MyDrive/python/v{VER}model.h5',custom_objects={'KerasLayer':hub.KerasLayer})\n",
        "model.load_weights(f'/content/drive/MyDrive/python/v{VER}.h5')\n"
      ],
      "metadata": {
        "id": "p-aWKKTwkrqF"
      },
      "execution_count": null,
      "outputs": []
    },
    {
      "cell_type": "code",
      "source": [
        "model.summary()"
      ],
      "metadata": {
        "id": "k_gKyoL-lq_Y",
        "colab": {
          "base_uri": "https://localhost:8080/"
        },
        "outputId": "fb5a004b-1fb1-4440-b550-10eaba73fa42"
      },
      "execution_count": null,
      "outputs": [
        {
          "output_type": "stream",
          "name": "stdout",
          "text": [
            "Model: \"model_1\"\n",
            "__________________________________________________________________________________________________\n",
            " Layer (type)                   Output Shape         Param #     Connected to                     \n",
            "==================================================================================================\n",
            " text (InputLayer)              [(None,)]            0           []                               \n",
            "                                                                                                  \n",
            " keras_layer_2 (KerasLayer)     {'input_type_ids':   0           ['text[0][0]']                   \n",
            "                                (None, 128),                                                      \n",
            "                                 'input_word_ids':                                                \n",
            "                                (None, 128),                                                      \n",
            "                                 'input_mask': (Non                                               \n",
            "                                e, 128)}                                                          \n",
            "                                                                                                  \n",
            " keras_layer_3 (KerasLayer)     {'sequence_output':  109482241   ['keras_layer_2[0][0]',          \n",
            "                                 (None, 128, 768),                'keras_layer_2[0][1]',          \n",
            "                                 'default': (None,                'keras_layer_2[0][2]']          \n",
            "                                768),                                                             \n",
            "                                 'pooled_output': (                                               \n",
            "                                None, 768),                                                       \n",
            "                                 'encoder_outputs':                                               \n",
            "                                 [(None, 128, 768),                                               \n",
            "                                 (None, 128, 768),                                                \n",
            "                                 (None, 128, 768),                                                \n",
            "                                 (None, 128, 768),                                                \n",
            "                                 (None, 128, 768),                                                \n",
            "                                 (None, 128, 768),                                                \n",
            "                                 (None, 128, 768),                                                \n",
            "                                 (None, 128, 768),                                                \n",
            "                                 (None, 128, 768),                                                \n",
            "                                 (None, 128, 768),                                                \n",
            "                                 (None, 128, 768),                                                \n",
            "                                 (None, 128, 768)]}                                               \n",
            "                                                                                                  \n",
            " dropout (Dropout)              (None, 768)          0           ['keras_layer_3[0][13]']         \n",
            "                                                                                                  \n",
            " output (Dense)                 (None, 7)            5383        ['dropout[0][0]']                \n",
            "                                                                                                  \n",
            "==================================================================================================\n",
            "Total params: 109,487,624\n",
            "Trainable params: 5,383\n",
            "Non-trainable params: 109,482,241\n",
            "__________________________________________________________________________________________________\n"
          ]
        }
      ]
    },
    {
      "cell_type": "code",
      "source": [
        "loss, acc = model.evaluate(X_test, y_test, verbose=1)\n",
        "print('Accuracy: {:5.2f}%'.format(100 * acc))"
      ],
      "metadata": {
        "id": "KzMbufPYlriA",
        "colab": {
          "base_uri": "https://localhost:8080/"
        },
        "outputId": "6c3036dd-be11-4745-fd82-d1ebd40bcae9"
      },
      "execution_count": null,
      "outputs": [
        {
          "output_type": "stream",
          "name": "stdout",
          "text": [
            "902/902 [==============================] - 187s 203ms/step - loss: 1.0472 - accuracy: 0.6221\n",
            "Accuracy: 62.21%\n"
          ]
        }
      ]
    },
    {
      "cell_type": "code",
      "source": [
        "test = [\"Modern humans today are always on their phone. They are always on their phone more than 5 hours a day no stop .All they do is text back and forward and just have group Chats on social media. They even do it while driving.\",\n",
        "        \"They are some really bad consequences when stuff happens when it comes to a phone.\",\n",
        "        \"Some certain areas in the United States ban phones from class rooms just because of it.\",\n",
        "        \"When people have phones, they know about certain apps that they have .Apps like Facebook Twitter Instagram and Snapchat. So like if a friend moves away and you want to be in contact you can still be in contact by posting videos or text messages. People always have different ways how to communicate with a phone. Phones have changed due to our generation. \",\n",
        "        \"Driving is one of the way how to get around. People always be on their phones while doing it. Which can cause serious Problems.\",\n",
        "        \"That's why there's a thing that's called no texting while driving. That's a really important thing to remember. Some people still do it because they think It's stupid. No matter what they do they still have to obey it because that's the only way how did he save.\",\n",
        "        \"Sometimes on the news there is either an accident or a suicide. It might involve someone not looking where they're going or tweet that someone sent. It either injury or death. If a mysterious number says I'm going to kill you and they know where you live but you don't know the person's contact,It makes you puzzled and make you start to freak out. Which can end up really badly. \",\n",
        "        \"Phones are fine to use and it's also the best way to come over help.\",\n",
        "        \"If you go through a problem and you can't find help you ,always have a phone there with you. Even though phones are used almost every day as long as you're safe it would come into use if you get into trouble. Make sure you do not be like this phone while you're in the middle of driving.\",\n",
        "        \"The news always updated when people do something stupid around that involves their phones. The safest way is the best way to stay safe.\"]"
      ],
      "metadata": {
        "id": "O_H4S-bHCz6U"
      },
      "execution_count": null,
      "outputs": []
    },
    {
      "cell_type": "code",
      "source": [
        "prediction=model.predict(test)\n",
        "prediction"
      ],
      "metadata": {
        "colab": {
          "base_uri": "https://localhost:8080/"
        },
        "id": "7bwo42izDHrL",
        "outputId": "f037aa71-a9a0-4067-f04a-822233521eee"
      },
      "execution_count": null,
      "outputs": [
        {
          "output_type": "execute_result",
          "data": {
            "text/plain": [
              "array([[2.97298968e-01, 9.32165608e-03, 5.44627905e-01, 8.04875791e-02,\n",
              "        4.52294908e-02, 6.09697821e-03, 1.69374738e-02],\n",
              "       [2.69972403e-02, 1.00598246e-01, 1.54806077e-01, 6.44752502e-01,\n",
              "        1.62515808e-02, 2.95412689e-02, 2.70530507e-02],\n",
              "       [1.31171495e-01, 2.72398274e-02, 3.10550243e-01, 4.51477587e-01,\n",
              "        2.97876471e-03, 7.28547499e-02, 3.72735341e-03],\n",
              "       [8.82811189e-01, 4.40356525e-04, 1.01025321e-01, 1.86145003e-03,\n",
              "        1.37559986e-02, 8.77804123e-05, 1.78843238e-05],\n",
              "       [1.34409159e-01, 2.50552986e-02, 5.09489834e-01, 2.80762464e-01,\n",
              "        2.97559015e-02, 1.47883799e-02, 5.73899969e-03],\n",
              "       [7.43092820e-02, 1.04047479e-02, 6.87643945e-01, 6.17431141e-02,\n",
              "        1.35074586e-01, 5.02372580e-03, 2.58005708e-02],\n",
              "       [1.16645120e-01, 5.07463992e-04, 8.53271544e-01, 7.70212570e-03,\n",
              "        1.93484426e-02, 1.64410356e-03, 8.81236629e-04],\n",
              "       [2.50272602e-02, 2.14759305e-01, 1.52010486e-01, 5.67708552e-01,\n",
              "        2.35981699e-02, 1.01513388e-02, 6.74492680e-03],\n",
              "       [3.02567389e-02, 7.80536374e-03, 6.76911533e-01, 5.69337197e-02,\n",
              "        2.25660488e-01, 1.29966624e-03, 1.13242108e-03],\n",
              "       [1.16627693e-01, 1.67439897e-02, 5.92957795e-01, 2.10657984e-01,\n",
              "        5.36328852e-02, 2.74451752e-03, 6.63512666e-03]], dtype=float32)"
            ]
          },
          "metadata": {},
          "execution_count": 43
        }
      ]
    },
    {
      "cell_type": "code",
      "source": [
        "predicted = np.argmax(prediction,axis=1)\n",
        "\n",
        "###\n",
        "#[4 5 3 3 0 3 3 0 3 1]\n",
        "Actual=['Lead','Position','Evidence','Evidence','Claim','Evidence','Evidence','Claim','Evidence','Concluding Statement']\n",
        "ans=[]\n",
        "for i in Actual:\n",
        "  ans.append(type(i))\n",
        "###\n",
        "#[0claim, 1concluding statement, 2counterclaim, 3evidence, 4lead, 5position, 6rebuttal]\n",
        "\n",
        "\n",
        "print(f\"Predicted: {predicted.tolist()}\")\n",
        "print(f'Actual:{ans}')\n",
        "import numpy as np\n",
        "np.array(predicted.tolist())-np.array(ans) #40%"
      ],
      "metadata": {
        "colab": {
          "base_uri": "https://localhost:8080/"
        },
        "id": "5NbAUuEMEFT_",
        "outputId": "b89e043c-c408-4da7-9f19-bf9d945f7508"
      },
      "execution_count": null,
      "outputs": [
        {
          "output_type": "stream",
          "name": "stdout",
          "text": [
            "Predicted: [2, 3, 3, 0, 2, 2, 2, 3, 2, 2]\n",
            "Actual:[0, 1, 2, 2, 3, 2, 2, 3, 2, 4]\n"
          ]
        },
        {
          "output_type": "execute_result",
          "data": {
            "text/plain": [
              "array([ 2,  2,  1, -2, -1,  0,  0,  0,  0, -2])"
            ]
          },
          "metadata": {},
          "execution_count": 44
        }
      ]
    },
    {
      "cell_type": "code",
      "source": [
        "def type(x):\n",
        "  if x=='Lead':\n",
        "    return 0\n",
        "  elif x=='Position':\n",
        "    return 1\n",
        "  elif x=='Evidence':\n",
        "    return 2\n",
        "  elif x=='Claim':\n",
        "    return 3 \n",
        "  elif x=='Concluding Statement':\n",
        "    return 4\n",
        "  elif x=='Counterclaim':\n",
        "    return 5\n",
        "  elif x=='Rebuttal':\n",
        "    return 6"
      ],
      "metadata": {
        "id": "f_Y0CIDMFDyj"
      },
      "execution_count": null,
      "outputs": []
    },
    {
      "cell_type": "code",
      "source": [
        "type('Lead')"
      ],
      "metadata": {
        "colab": {
          "base_uri": "https://localhost:8080/"
        },
        "id": "sAaY6vn0Fl64",
        "outputId": "89cd71af-b84b-48c4-f819-34716f049cfd"
      },
      "execution_count": null,
      "outputs": [
        {
          "output_type": "execute_result",
          "data": {
            "text/plain": [
              "0"
            ]
          },
          "metadata": {},
          "execution_count": 53
        }
      ]
    },
    {
      "cell_type": "code",
      "source": [
        "import random\n",
        "sample_num=random.sample(range(len(df)),int(len(df)/100))"
      ],
      "metadata": {
        "id": "iMR3KZACCr45"
      },
      "execution_count": null,
      "outputs": []
    },
    {
      "cell_type": "code",
      "source": [
        "test=df.iloc[sample_num][['discourse_text','discourse_type_']]\n",
        "test.head(10)"
      ],
      "metadata": {
        "colab": {
          "base_uri": "https://localhost:8080/",
          "height": 359
        },
        "id": "g5adxHgcEFOM",
        "outputId": "eeb81f2d-dc08-45a2-b6a2-0293043a9519"
      },
      "execution_count": null,
      "outputs": [
        {
          "output_type": "execute_result",
          "data": {
            "text/html": [
              "\n",
              "  <div id=\"df-e2741d52-c88c-4b17-83a6-c046fa0b191d\">\n",
              "    <div class=\"colab-df-container\">\n",
              "      <div>\n",
              "<style scoped>\n",
              "    .dataframe tbody tr th:only-of-type {\n",
              "        vertical-align: middle;\n",
              "    }\n",
              "\n",
              "    .dataframe tbody tr th {\n",
              "        vertical-align: top;\n",
              "    }\n",
              "\n",
              "    .dataframe thead th {\n",
              "        text-align: right;\n",
              "    }\n",
              "</style>\n",
              "<table border=\"1\" class=\"dataframe\">\n",
              "  <thead>\n",
              "    <tr style=\"text-align: right;\">\n",
              "      <th></th>\n",
              "      <th>discourse_text</th>\n",
              "      <th>discourse_type_</th>\n",
              "    </tr>\n",
              "  </thead>\n",
              "  <tbody>\n",
              "    <tr>\n",
              "      <th>102067</th>\n",
              "      <td>the Electoral College avoids the problem of el...</td>\n",
              "      <td>3</td>\n",
              "    </tr>\n",
              "    <tr>\n",
              "      <th>43009</th>\n",
              "      <td>Here's my problem with the authors claims, an...</td>\n",
              "      <td>5</td>\n",
              "    </tr>\n",
              "    <tr>\n",
              "      <th>57606</th>\n",
              "      <td>In the article \"Umasking the Face on Mars, in ...</td>\n",
              "      <td>3</td>\n",
              "    </tr>\n",
              "    <tr>\n",
              "      <th>114986</th>\n",
              "      <td>The whole point of school is to get you ready ...</td>\n",
              "      <td>0</td>\n",
              "    </tr>\n",
              "    <tr>\n",
              "      <th>129595</th>\n",
              "      <td>They can stress much less, be able to manage t...</td>\n",
              "      <td>3</td>\n",
              "    </tr>\n",
              "    <tr>\n",
              "      <th>47859</th>\n",
              "      <td>i know all of this imformation because when im...</td>\n",
              "      <td>2</td>\n",
              "    </tr>\n",
              "    <tr>\n",
              "      <th>49235</th>\n",
              "      <td>In the passage Making Mona Lisa Smile they tal...</td>\n",
              "      <td>0</td>\n",
              "    </tr>\n",
              "    <tr>\n",
              "      <th>25237</th>\n",
              "      <td>all the countries you helped will remember you...</td>\n",
              "      <td>2</td>\n",
              "    </tr>\n",
              "    <tr>\n",
              "      <th>81253</th>\n",
              "      <td>So in concluson, driverless cars are unsafe fo...</td>\n",
              "      <td>4</td>\n",
              "    </tr>\n",
              "    <tr>\n",
              "      <th>2191</th>\n",
              "      <td>Most people don't see the dangers but peoples ...</td>\n",
              "      <td>2</td>\n",
              "    </tr>\n",
              "  </tbody>\n",
              "</table>\n",
              "</div>\n",
              "      <button class=\"colab-df-convert\" onclick=\"convertToInteractive('df-e2741d52-c88c-4b17-83a6-c046fa0b191d')\"\n",
              "              title=\"Convert this dataframe to an interactive table.\"\n",
              "              style=\"display:none;\">\n",
              "        \n",
              "  <svg xmlns=\"http://www.w3.org/2000/svg\" height=\"24px\"viewBox=\"0 0 24 24\"\n",
              "       width=\"24px\">\n",
              "    <path d=\"M0 0h24v24H0V0z\" fill=\"none\"/>\n",
              "    <path d=\"M18.56 5.44l.94 2.06.94-2.06 2.06-.94-2.06-.94-.94-2.06-.94 2.06-2.06.94zm-11 1L8.5 8.5l.94-2.06 2.06-.94-2.06-.94L8.5 2.5l-.94 2.06-2.06.94zm10 10l.94 2.06.94-2.06 2.06-.94-2.06-.94-.94-2.06-.94 2.06-2.06.94z\"/><path d=\"M17.41 7.96l-1.37-1.37c-.4-.4-.92-.59-1.43-.59-.52 0-1.04.2-1.43.59L10.3 9.45l-7.72 7.72c-.78.78-.78 2.05 0 2.83L4 21.41c.39.39.9.59 1.41.59.51 0 1.02-.2 1.41-.59l7.78-7.78 2.81-2.81c.8-.78.8-2.07 0-2.86zM5.41 20L4 18.59l7.72-7.72 1.47 1.35L5.41 20z\"/>\n",
              "  </svg>\n",
              "      </button>\n",
              "      \n",
              "  <style>\n",
              "    .colab-df-container {\n",
              "      display:flex;\n",
              "      flex-wrap:wrap;\n",
              "      gap: 12px;\n",
              "    }\n",
              "\n",
              "    .colab-df-convert {\n",
              "      background-color: #E8F0FE;\n",
              "      border: none;\n",
              "      border-radius: 50%;\n",
              "      cursor: pointer;\n",
              "      display: none;\n",
              "      fill: #1967D2;\n",
              "      height: 32px;\n",
              "      padding: 0 0 0 0;\n",
              "      width: 32px;\n",
              "    }\n",
              "\n",
              "    .colab-df-convert:hover {\n",
              "      background-color: #E2EBFA;\n",
              "      box-shadow: 0px 1px 2px rgba(60, 64, 67, 0.3), 0px 1px 3px 1px rgba(60, 64, 67, 0.15);\n",
              "      fill: #174EA6;\n",
              "    }\n",
              "\n",
              "    [theme=dark] .colab-df-convert {\n",
              "      background-color: #3B4455;\n",
              "      fill: #D2E3FC;\n",
              "    }\n",
              "\n",
              "    [theme=dark] .colab-df-convert:hover {\n",
              "      background-color: #434B5C;\n",
              "      box-shadow: 0px 1px 3px 1px rgba(0, 0, 0, 0.15);\n",
              "      filter: drop-shadow(0px 1px 2px rgba(0, 0, 0, 0.3));\n",
              "      fill: #FFFFFF;\n",
              "    }\n",
              "  </style>\n",
              "\n",
              "      <script>\n",
              "        const buttonEl =\n",
              "          document.querySelector('#df-e2741d52-c88c-4b17-83a6-c046fa0b191d button.colab-df-convert');\n",
              "        buttonEl.style.display =\n",
              "          google.colab.kernel.accessAllowed ? 'block' : 'none';\n",
              "\n",
              "        async function convertToInteractive(key) {\n",
              "          const element = document.querySelector('#df-e2741d52-c88c-4b17-83a6-c046fa0b191d');\n",
              "          const dataTable =\n",
              "            await google.colab.kernel.invokeFunction('convertToInteractive',\n",
              "                                                     [key], {});\n",
              "          if (!dataTable) return;\n",
              "\n",
              "          const docLinkHtml = 'Like what you see? Visit the ' +\n",
              "            '<a target=\"_blank\" href=https://colab.research.google.com/notebooks/data_table.ipynb>data table notebook</a>'\n",
              "            + ' to learn more about interactive tables.';\n",
              "          element.innerHTML = '';\n",
              "          dataTable['output_type'] = 'display_data';\n",
              "          await google.colab.output.renderOutput(dataTable, element);\n",
              "          const docLink = document.createElement('div');\n",
              "          docLink.innerHTML = docLinkHtml;\n",
              "          element.appendChild(docLink);\n",
              "        }\n",
              "      </script>\n",
              "    </div>\n",
              "  </div>\n",
              "  "
            ],
            "text/plain": [
              "                                           discourse_text  discourse_type_\n",
              "102067  the Electoral College avoids the problem of el...                3\n",
              "43009    Here's my problem with the authors claims, an...                5\n",
              "57606   In the article \"Umasking the Face on Mars, in ...                3\n",
              "114986  The whole point of school is to get you ready ...                0\n",
              "129595  They can stress much less, be able to manage t...                3\n",
              "47859   i know all of this imformation because when im...                2\n",
              "49235   In the passage Making Mona Lisa Smile they tal...                0\n",
              "25237   all the countries you helped will remember you...                2\n",
              "81253   So in concluson, driverless cars are unsafe fo...                4\n",
              "2191    Most people don't see the dangers but peoples ...                2"
            ]
          },
          "metadata": {},
          "execution_count": 91
        }
      ]
    },
    {
      "cell_type": "code",
      "source": [
        "X_sample=df.iloc[sample_num][['discourse_text','discourse_type_']]['discourse_text']\n",
        "X_sample[:10]"
      ],
      "metadata": {
        "colab": {
          "base_uri": "https://localhost:8080/"
        },
        "id": "T18CbYl-EYHY",
        "outputId": "36bd6147-1549-4c9f-8f5f-f7ad6224050e"
      },
      "execution_count": null,
      "outputs": [
        {
          "output_type": "execute_result",
          "data": {
            "text/plain": [
              "102067    the Electoral College avoids the problem of el...\n",
              "43009      Here's my problem with the authors claims, an...\n",
              "57606     In the article \"Umasking the Face on Mars, in ...\n",
              "114986    The whole point of school is to get you ready ...\n",
              "129595    They can stress much less, be able to manage t...\n",
              "47859     i know all of this imformation because when im...\n",
              "49235     In the passage Making Mona Lisa Smile they tal...\n",
              "25237     all the countries you helped will remember you...\n",
              "81253     So in concluson, driverless cars are unsafe fo...\n",
              "2191      Most people don't see the dangers but peoples ...\n",
              "Name: discourse_text, dtype: object"
            ]
          },
          "metadata": {},
          "execution_count": 90
        }
      ]
    },
    {
      "cell_type": "code",
      "source": [
        "prediction=model.predict(X_sample)\n",
        "predicted = np.argmax(prediction,axis=1)\n",
        "test['prediction']=predicted\n",
        "test.head(10)"
      ],
      "metadata": {
        "colab": {
          "base_uri": "https://localhost:8080/",
          "height": 359
        },
        "id": "86CjHICIGgho",
        "outputId": "e64b7331-a792-4d1d-bab5-35d1b1c9bfb4"
      },
      "execution_count": null,
      "outputs": [
        {
          "output_type": "execute_result",
          "data": {
            "text/html": [
              "\n",
              "  <div id=\"df-2f319413-1520-4681-92d7-b97b91695e02\">\n",
              "    <div class=\"colab-df-container\">\n",
              "      <div>\n",
              "<style scoped>\n",
              "    .dataframe tbody tr th:only-of-type {\n",
              "        vertical-align: middle;\n",
              "    }\n",
              "\n",
              "    .dataframe tbody tr th {\n",
              "        vertical-align: top;\n",
              "    }\n",
              "\n",
              "    .dataframe thead th {\n",
              "        text-align: right;\n",
              "    }\n",
              "</style>\n",
              "<table border=\"1\" class=\"dataframe\">\n",
              "  <thead>\n",
              "    <tr style=\"text-align: right;\">\n",
              "      <th></th>\n",
              "      <th>discourse_text</th>\n",
              "      <th>discourse_type_</th>\n",
              "      <th>prediction</th>\n",
              "    </tr>\n",
              "  </thead>\n",
              "  <tbody>\n",
              "    <tr>\n",
              "      <th>102067</th>\n",
              "      <td>the Electoral College avoids the problem of el...</td>\n",
              "      <td>3</td>\n",
              "      <td>3</td>\n",
              "    </tr>\n",
              "    <tr>\n",
              "      <th>43009</th>\n",
              "      <td>Here's my problem with the authors claims, an...</td>\n",
              "      <td>5</td>\n",
              "      <td>2</td>\n",
              "    </tr>\n",
              "    <tr>\n",
              "      <th>57606</th>\n",
              "      <td>In the article \"Umasking the Face on Mars, in ...</td>\n",
              "      <td>3</td>\n",
              "      <td>2</td>\n",
              "    </tr>\n",
              "    <tr>\n",
              "      <th>114986</th>\n",
              "      <td>The whole point of school is to get you ready ...</td>\n",
              "      <td>0</td>\n",
              "      <td>2</td>\n",
              "    </tr>\n",
              "    <tr>\n",
              "      <th>129595</th>\n",
              "      <td>They can stress much less, be able to manage t...</td>\n",
              "      <td>3</td>\n",
              "      <td>3</td>\n",
              "    </tr>\n",
              "    <tr>\n",
              "      <th>47859</th>\n",
              "      <td>i know all of this imformation because when im...</td>\n",
              "      <td>2</td>\n",
              "      <td>2</td>\n",
              "    </tr>\n",
              "    <tr>\n",
              "      <th>49235</th>\n",
              "      <td>In the passage Making Mona Lisa Smile they tal...</td>\n",
              "      <td>0</td>\n",
              "      <td>2</td>\n",
              "    </tr>\n",
              "    <tr>\n",
              "      <th>25237</th>\n",
              "      <td>all the countries you helped will remember you...</td>\n",
              "      <td>2</td>\n",
              "      <td>4</td>\n",
              "    </tr>\n",
              "    <tr>\n",
              "      <th>81253</th>\n",
              "      <td>So in concluson, driverless cars are unsafe fo...</td>\n",
              "      <td>4</td>\n",
              "      <td>4</td>\n",
              "    </tr>\n",
              "    <tr>\n",
              "      <th>2191</th>\n",
              "      <td>Most people don't see the dangers but peoples ...</td>\n",
              "      <td>2</td>\n",
              "      <td>2</td>\n",
              "    </tr>\n",
              "  </tbody>\n",
              "</table>\n",
              "</div>\n",
              "      <button class=\"colab-df-convert\" onclick=\"convertToInteractive('df-2f319413-1520-4681-92d7-b97b91695e02')\"\n",
              "              title=\"Convert this dataframe to an interactive table.\"\n",
              "              style=\"display:none;\">\n",
              "        \n",
              "  <svg xmlns=\"http://www.w3.org/2000/svg\" height=\"24px\"viewBox=\"0 0 24 24\"\n",
              "       width=\"24px\">\n",
              "    <path d=\"M0 0h24v24H0V0z\" fill=\"none\"/>\n",
              "    <path d=\"M18.56 5.44l.94 2.06.94-2.06 2.06-.94-2.06-.94-.94-2.06-.94 2.06-2.06.94zm-11 1L8.5 8.5l.94-2.06 2.06-.94-2.06-.94L8.5 2.5l-.94 2.06-2.06.94zm10 10l.94 2.06.94-2.06 2.06-.94-2.06-.94-.94-2.06-.94 2.06-2.06.94z\"/><path d=\"M17.41 7.96l-1.37-1.37c-.4-.4-.92-.59-1.43-.59-.52 0-1.04.2-1.43.59L10.3 9.45l-7.72 7.72c-.78.78-.78 2.05 0 2.83L4 21.41c.39.39.9.59 1.41.59.51 0 1.02-.2 1.41-.59l7.78-7.78 2.81-2.81c.8-.78.8-2.07 0-2.86zM5.41 20L4 18.59l7.72-7.72 1.47 1.35L5.41 20z\"/>\n",
              "  </svg>\n",
              "      </button>\n",
              "      \n",
              "  <style>\n",
              "    .colab-df-container {\n",
              "      display:flex;\n",
              "      flex-wrap:wrap;\n",
              "      gap: 12px;\n",
              "    }\n",
              "\n",
              "    .colab-df-convert {\n",
              "      background-color: #E8F0FE;\n",
              "      border: none;\n",
              "      border-radius: 50%;\n",
              "      cursor: pointer;\n",
              "      display: none;\n",
              "      fill: #1967D2;\n",
              "      height: 32px;\n",
              "      padding: 0 0 0 0;\n",
              "      width: 32px;\n",
              "    }\n",
              "\n",
              "    .colab-df-convert:hover {\n",
              "      background-color: #E2EBFA;\n",
              "      box-shadow: 0px 1px 2px rgba(60, 64, 67, 0.3), 0px 1px 3px 1px rgba(60, 64, 67, 0.15);\n",
              "      fill: #174EA6;\n",
              "    }\n",
              "\n",
              "    [theme=dark] .colab-df-convert {\n",
              "      background-color: #3B4455;\n",
              "      fill: #D2E3FC;\n",
              "    }\n",
              "\n",
              "    [theme=dark] .colab-df-convert:hover {\n",
              "      background-color: #434B5C;\n",
              "      box-shadow: 0px 1px 3px 1px rgba(0, 0, 0, 0.15);\n",
              "      filter: drop-shadow(0px 1px 2px rgba(0, 0, 0, 0.3));\n",
              "      fill: #FFFFFF;\n",
              "    }\n",
              "  </style>\n",
              "\n",
              "      <script>\n",
              "        const buttonEl =\n",
              "          document.querySelector('#df-2f319413-1520-4681-92d7-b97b91695e02 button.colab-df-convert');\n",
              "        buttonEl.style.display =\n",
              "          google.colab.kernel.accessAllowed ? 'block' : 'none';\n",
              "\n",
              "        async function convertToInteractive(key) {\n",
              "          const element = document.querySelector('#df-2f319413-1520-4681-92d7-b97b91695e02');\n",
              "          const dataTable =\n",
              "            await google.colab.kernel.invokeFunction('convertToInteractive',\n",
              "                                                     [key], {});\n",
              "          if (!dataTable) return;\n",
              "\n",
              "          const docLinkHtml = 'Like what you see? Visit the ' +\n",
              "            '<a target=\"_blank\" href=https://colab.research.google.com/notebooks/data_table.ipynb>data table notebook</a>'\n",
              "            + ' to learn more about interactive tables.';\n",
              "          element.innerHTML = '';\n",
              "          dataTable['output_type'] = 'display_data';\n",
              "          await google.colab.output.renderOutput(dataTable, element);\n",
              "          const docLink = document.createElement('div');\n",
              "          docLink.innerHTML = docLinkHtml;\n",
              "          element.appendChild(docLink);\n",
              "        }\n",
              "      </script>\n",
              "    </div>\n",
              "  </div>\n",
              "  "
            ],
            "text/plain": [
              "                                           discourse_text  ...  prediction\n",
              "102067  the Electoral College avoids the problem of el...  ...           3\n",
              "43009    Here's my problem with the authors claims, an...  ...           2\n",
              "57606   In the article \"Umasking the Face on Mars, in ...  ...           2\n",
              "114986  The whole point of school is to get you ready ...  ...           2\n",
              "129595  They can stress much less, be able to manage t...  ...           3\n",
              "47859   i know all of this imformation because when im...  ...           2\n",
              "49235   In the passage Making Mona Lisa Smile they tal...  ...           2\n",
              "25237   all the countries you helped will remember you...  ...           4\n",
              "81253   So in concluson, driverless cars are unsafe fo...  ...           4\n",
              "2191    Most people don't see the dangers but peoples ...  ...           2\n",
              "\n",
              "[10 rows x 3 columns]"
            ]
          },
          "metadata": {},
          "execution_count": 94
        }
      ]
    },
    {
      "cell_type": "code",
      "source": [
        "true=0\n",
        "for i in sample_num:\n",
        "  if test.loc[i]['discourse_type_']==test.loc[i]['prediction']:\n",
        "    true+=1\n",
        "\n",
        "print(f'Accuracy: {round(true/len(test),4)*100}%')"
      ],
      "metadata": {
        "colab": {
          "base_uri": "https://localhost:8080/"
        },
        "id": "CpXJ0QMbG3sb",
        "outputId": "e195add4-7f3d-416b-a987-ebf63c262231"
      },
      "execution_count": null,
      "outputs": [
        {
          "output_type": "stream",
          "name": "stdout",
          "text": [
            "Accuracy: 61.58%\n"
          ]
        }
      ]
    },
    {
      "cell_type": "code",
      "source": [
        "import random\n",
        "#random sampling\n",
        "sample_num=random.sample(range(len(df)),int(len(df)/100))\n",
        "test=df.iloc[sample_num][['discourse_text','discourse_type_']]\n",
        "\n",
        "#define sample for Validation\n",
        "X_sample=df.iloc[sample_num][['discourse_text','discourse_type_']]['discourse_text']\n",
        "\n",
        "#prediction\n",
        "prediction=model.predict(X_sample)\n",
        "predicted = np.argmax(prediction,axis=1)\n",
        "test['prediction']=predicted\n",
        "\n",
        "#calculate accuracy\n",
        "true=0\n",
        "for i in sample_num:\n",
        "  if test.loc[i]['discourse_type_']==test.loc[i]['prediction']:\n",
        "    true+=1\n",
        "\n",
        "print(f'Accuracy: {round(true/len(test),4)*100}%')"
      ],
      "metadata": {
        "colab": {
          "base_uri": "https://localhost:8080/"
        },
        "id": "Cdj4htdRIjy-",
        "outputId": "aef722a2-8d99-4a24-e633-12e7c63dd428"
      },
      "execution_count": null,
      "outputs": [
        {
          "output_type": "stream",
          "name": "stdout",
          "text": [
            "Accuracy: 61.23%\n"
          ]
        }
      ]
    },
    {
      "cell_type": "code",
      "source": [
        ""
      ],
      "metadata": {
        "id": "ohakHMaTIIOQ"
      },
      "execution_count": null,
      "outputs": []
    },
    {
      "cell_type": "code",
      "source": [
        ""
      ],
      "metadata": {
        "id": "NvOQ7YIvjjBI"
      },
      "execution_count": null,
      "outputs": []
    },
    {
      "cell_type": "markdown",
      "source": [
        "# Demo sample essay"
      ],
      "metadata": {
        "id": "0b8fPyMejbS9"
      }
    },
    {
      "cell_type": "code",
      "source": [
        "p4=\"\"\"The lack of a new generation is also to be blamed for the vanquishing of independent stationery shops when Mary, an independent stationery shop owner to be returned soon, asks her son to operate the shop for her, her son said. I would rather work in a large book store. It’s more comfortable and has a higher salary. Under the booming economy, the new generation of teenagers is desperate for a higher salary for their lavish expenditure. In stark contrast, the independent stationery stores are earning fewer year by year, so are the owners and employees running the shop. Knowing that there is little to earn, it is no stranger that teenagers are reluctant to join the small stationery sellers. Instead, they would rather become the employers of large book stores, or run electronic shops of their own. As decades passed, owners of these independent book stores became too old to run the shops. Despite the efforts they paid, it is futile for them to seek a successor. Feeling tired, sad, and frustrated, the shop owners had no choice but to shut down their stores permanently.\"\"\"\n",
        "p5=\"\"\"It is the skyrocketing rent in Hong Kong, however, that should bear the greatest brunt of the saddening trend. Peter, who closed down a few months ago, claimed that he would have earned enough to make a living, had the rent been a little lower. The price of housing flats has been drastically soaring since the end of SARS, and the shop rent has been following suit. While the independent stationery stores have been sparing no paths to make ends meet, the profit they made is far from enough to chase the increase in Hong Kong’s rent. Owing to the high rent introduced by the flat owners and general economic conditions, it is blatantly expensive that the independent stationery shops can hardly make it through, although they tried to survive with the connection and network it had built over decades.\"\"\""
      ],
      "metadata": {
        "id": "-kTA_CQ1RvQG"
      },
      "execution_count": null,
      "outputs": []
    },
    {
      "cell_type": "code",
      "source": [
        "para4=[]\n",
        "para5=[]\n",
        "for i in p4.split(\".\"):\n",
        "  if len(i)>1:\n",
        "    para4.append(i.strip()+'.')\n",
        "for i in p5.split(\".\"):\n",
        "  if len(i)>1:\n",
        "    para5.append(i.strip()+'.')"
      ],
      "metadata": {
        "id": "Nd0stRRJWubc"
      },
      "execution_count": null,
      "outputs": []
    },
    {
      "cell_type": "code",
      "source": [
        "para4[0]"
      ],
      "metadata": {
        "id": "2xAN6J8ZW_4x",
        "colab": {
          "base_uri": "https://localhost:8080/",
          "height": 71
        },
        "outputId": "e59b5ac7-2f17-40f7-c7c2-fffa7592f748"
      },
      "execution_count": null,
      "outputs": [
        {
          "output_type": "execute_result",
          "data": {
            "application/vnd.google.colaboratory.intrinsic+json": {
              "type": "string"
            },
            "text/plain": [
              "'The lack of a new generation is also to be blamed for the vanquishing of independent stationery shops when Mary, an independent stationery shop owner to be returned soon, asks her son to operate the shop for her, her son said.'"
            ]
          },
          "metadata": {},
          "execution_count": 24
        }
      ]
    },
    {
      "cell_type": "code",
      "source": [
        "dict={ 0:'Lead',1:'Position',2:'Evidence',3:'Claim',4:'Concluding Statement',5:'Counterclaim',6:'Rebuttal'}\n",
        "prediction=model.predict(para4)\n",
        "predicted = np.argmax(prediction,axis=1)\n"
      ],
      "metadata": {
        "id": "haHD2bckkO2q"
      },
      "execution_count": null,
      "outputs": []
    },
    {
      "cell_type": "code",
      "source": [
        "P4=pd.DataFrame(para4)\n",
        "P4['type']=[dict.get(i) for i in predicted.tolist()]\n",
        "P4"
      ],
      "metadata": {
        "colab": {
          "base_uri": "https://localhost:8080/",
          "height": 359
        },
        "id": "Y7o9HxeplaNe",
        "outputId": "a53df378-ad7f-4486-bec7-510fc634f4b7"
      },
      "execution_count": null,
      "outputs": [
        {
          "output_type": "execute_result",
          "data": {
            "text/html": [
              "\n",
              "  <div id=\"df-0a0af6eb-6b82-4fef-9f04-7d950ed09548\">\n",
              "    <div class=\"colab-df-container\">\n",
              "      <div>\n",
              "<style scoped>\n",
              "    .dataframe tbody tr th:only-of-type {\n",
              "        vertical-align: middle;\n",
              "    }\n",
              "\n",
              "    .dataframe tbody tr th {\n",
              "        vertical-align: top;\n",
              "    }\n",
              "\n",
              "    .dataframe thead th {\n",
              "        text-align: right;\n",
              "    }\n",
              "</style>\n",
              "<table border=\"1\" class=\"dataframe\">\n",
              "  <thead>\n",
              "    <tr style=\"text-align: right;\">\n",
              "      <th></th>\n",
              "      <th>0</th>\n",
              "      <th>type</th>\n",
              "    </tr>\n",
              "  </thead>\n",
              "  <tbody>\n",
              "    <tr>\n",
              "      <th>0</th>\n",
              "      <td>The lack of a new generation is also to be bla...</td>\n",
              "      <td>Evidence</td>\n",
              "    </tr>\n",
              "    <tr>\n",
              "      <th>1</th>\n",
              "      <td>I would rather work in a large book store.</td>\n",
              "      <td>Position</td>\n",
              "    </tr>\n",
              "    <tr>\n",
              "      <th>2</th>\n",
              "      <td>It’s more comfortable and has a higher salary.</td>\n",
              "      <td>Claim</td>\n",
              "    </tr>\n",
              "    <tr>\n",
              "      <th>3</th>\n",
              "      <td>Under the booming economy, the new generation ...</td>\n",
              "      <td>Claim</td>\n",
              "    </tr>\n",
              "    <tr>\n",
              "      <th>4</th>\n",
              "      <td>In stark contrast, the independent stationery ...</td>\n",
              "      <td>Claim</td>\n",
              "    </tr>\n",
              "    <tr>\n",
              "      <th>5</th>\n",
              "      <td>Knowing that there is little to earn, it is no...</td>\n",
              "      <td>Lead</td>\n",
              "    </tr>\n",
              "    <tr>\n",
              "      <th>6</th>\n",
              "      <td>Instead, they would rather become the employer...</td>\n",
              "      <td>Evidence</td>\n",
              "    </tr>\n",
              "    <tr>\n",
              "      <th>7</th>\n",
              "      <td>As decades passed, owners of these independent...</td>\n",
              "      <td>Evidence</td>\n",
              "    </tr>\n",
              "    <tr>\n",
              "      <th>8</th>\n",
              "      <td>Despite the efforts they paid, it is futile fo...</td>\n",
              "      <td>Claim</td>\n",
              "    </tr>\n",
              "    <tr>\n",
              "      <th>9</th>\n",
              "      <td>Feeling tired, sad, and frustrated, the shop o...</td>\n",
              "      <td>Lead</td>\n",
              "    </tr>\n",
              "  </tbody>\n",
              "</table>\n",
              "</div>\n",
              "      <button class=\"colab-df-convert\" onclick=\"convertToInteractive('df-0a0af6eb-6b82-4fef-9f04-7d950ed09548')\"\n",
              "              title=\"Convert this dataframe to an interactive table.\"\n",
              "              style=\"display:none;\">\n",
              "        \n",
              "  <svg xmlns=\"http://www.w3.org/2000/svg\" height=\"24px\"viewBox=\"0 0 24 24\"\n",
              "       width=\"24px\">\n",
              "    <path d=\"M0 0h24v24H0V0z\" fill=\"none\"/>\n",
              "    <path d=\"M18.56 5.44l.94 2.06.94-2.06 2.06-.94-2.06-.94-.94-2.06-.94 2.06-2.06.94zm-11 1L8.5 8.5l.94-2.06 2.06-.94-2.06-.94L8.5 2.5l-.94 2.06-2.06.94zm10 10l.94 2.06.94-2.06 2.06-.94-2.06-.94-.94-2.06-.94 2.06-2.06.94z\"/><path d=\"M17.41 7.96l-1.37-1.37c-.4-.4-.92-.59-1.43-.59-.52 0-1.04.2-1.43.59L10.3 9.45l-7.72 7.72c-.78.78-.78 2.05 0 2.83L4 21.41c.39.39.9.59 1.41.59.51 0 1.02-.2 1.41-.59l7.78-7.78 2.81-2.81c.8-.78.8-2.07 0-2.86zM5.41 20L4 18.59l7.72-7.72 1.47 1.35L5.41 20z\"/>\n",
              "  </svg>\n",
              "      </button>\n",
              "      \n",
              "  <style>\n",
              "    .colab-df-container {\n",
              "      display:flex;\n",
              "      flex-wrap:wrap;\n",
              "      gap: 12px;\n",
              "    }\n",
              "\n",
              "    .colab-df-convert {\n",
              "      background-color: #E8F0FE;\n",
              "      border: none;\n",
              "      border-radius: 50%;\n",
              "      cursor: pointer;\n",
              "      display: none;\n",
              "      fill: #1967D2;\n",
              "      height: 32px;\n",
              "      padding: 0 0 0 0;\n",
              "      width: 32px;\n",
              "    }\n",
              "\n",
              "    .colab-df-convert:hover {\n",
              "      background-color: #E2EBFA;\n",
              "      box-shadow: 0px 1px 2px rgba(60, 64, 67, 0.3), 0px 1px 3px 1px rgba(60, 64, 67, 0.15);\n",
              "      fill: #174EA6;\n",
              "    }\n",
              "\n",
              "    [theme=dark] .colab-df-convert {\n",
              "      background-color: #3B4455;\n",
              "      fill: #D2E3FC;\n",
              "    }\n",
              "\n",
              "    [theme=dark] .colab-df-convert:hover {\n",
              "      background-color: #434B5C;\n",
              "      box-shadow: 0px 1px 3px 1px rgba(0, 0, 0, 0.15);\n",
              "      filter: drop-shadow(0px 1px 2px rgba(0, 0, 0, 0.3));\n",
              "      fill: #FFFFFF;\n",
              "    }\n",
              "  </style>\n",
              "\n",
              "      <script>\n",
              "        const buttonEl =\n",
              "          document.querySelector('#df-0a0af6eb-6b82-4fef-9f04-7d950ed09548 button.colab-df-convert');\n",
              "        buttonEl.style.display =\n",
              "          google.colab.kernel.accessAllowed ? 'block' : 'none';\n",
              "\n",
              "        async function convertToInteractive(key) {\n",
              "          const element = document.querySelector('#df-0a0af6eb-6b82-4fef-9f04-7d950ed09548');\n",
              "          const dataTable =\n",
              "            await google.colab.kernel.invokeFunction('convertToInteractive',\n",
              "                                                     [key], {});\n",
              "          if (!dataTable) return;\n",
              "\n",
              "          const docLinkHtml = 'Like what you see? Visit the ' +\n",
              "            '<a target=\"_blank\" href=https://colab.research.google.com/notebooks/data_table.ipynb>data table notebook</a>'\n",
              "            + ' to learn more about interactive tables.';\n",
              "          element.innerHTML = '';\n",
              "          dataTable['output_type'] = 'display_data';\n",
              "          await google.colab.output.renderOutput(dataTable, element);\n",
              "          const docLink = document.createElement('div');\n",
              "          docLink.innerHTML = docLinkHtml;\n",
              "          element.appendChild(docLink);\n",
              "        }\n",
              "      </script>\n",
              "    </div>\n",
              "  </div>\n",
              "  "
            ],
            "text/plain": [
              "                                                   0      type\n",
              "0  The lack of a new generation is also to be bla...  Evidence\n",
              "1         I would rather work in a large book store.  Position\n",
              "2     It’s more comfortable and has a higher salary.     Claim\n",
              "3  Under the booming economy, the new generation ...     Claim\n",
              "4  In stark contrast, the independent stationery ...     Claim\n",
              "5  Knowing that there is little to earn, it is no...      Lead\n",
              "6  Instead, they would rather become the employer...  Evidence\n",
              "7  As decades passed, owners of these independent...  Evidence\n",
              "8  Despite the efforts they paid, it is futile fo...     Claim\n",
              "9  Feeling tired, sad, and frustrated, the shop o...      Lead"
            ]
          },
          "metadata": {},
          "execution_count": 26
        }
      ]
    },
    {
      "cell_type": "code",
      "source": [
        "prediction=model.predict(para5)\n",
        "predicted = np.argmax(prediction,axis=1)\n",
        "P5=pd.DataFrame(para5)\n",
        "P5['type']=[dict.get(i) for i in predicted.tolist()]\n",
        "P5"
      ],
      "metadata": {
        "colab": {
          "base_uri": "https://localhost:8080/",
          "height": 204
        },
        "id": "Tv2vwQVamd41",
        "outputId": "d08739c8-1f64-4dd7-bba7-4491fcb40fa4"
      },
      "execution_count": null,
      "outputs": [
        {
          "output_type": "execute_result",
          "data": {
            "text/html": [
              "\n",
              "  <div id=\"df-27678a63-a13c-4bf3-9392-85c02d0746ac\">\n",
              "    <div class=\"colab-df-container\">\n",
              "      <div>\n",
              "<style scoped>\n",
              "    .dataframe tbody tr th:only-of-type {\n",
              "        vertical-align: middle;\n",
              "    }\n",
              "\n",
              "    .dataframe tbody tr th {\n",
              "        vertical-align: top;\n",
              "    }\n",
              "\n",
              "    .dataframe thead th {\n",
              "        text-align: right;\n",
              "    }\n",
              "</style>\n",
              "<table border=\"1\" class=\"dataframe\">\n",
              "  <thead>\n",
              "    <tr style=\"text-align: right;\">\n",
              "      <th></th>\n",
              "      <th>0</th>\n",
              "      <th>type</th>\n",
              "    </tr>\n",
              "  </thead>\n",
              "  <tbody>\n",
              "    <tr>\n",
              "      <th>0</th>\n",
              "      <td>It is the skyrocketing rent in Hong Kong, howe...</td>\n",
              "      <td>Position</td>\n",
              "    </tr>\n",
              "    <tr>\n",
              "      <th>1</th>\n",
              "      <td>Peter, who closed down a few months ago, claim...</td>\n",
              "      <td>Evidence</td>\n",
              "    </tr>\n",
              "    <tr>\n",
              "      <th>2</th>\n",
              "      <td>The price of housing flats has been drasticall...</td>\n",
              "      <td>Claim</td>\n",
              "    </tr>\n",
              "    <tr>\n",
              "      <th>3</th>\n",
              "      <td>While the independent stationery stores have b...</td>\n",
              "      <td>Claim</td>\n",
              "    </tr>\n",
              "    <tr>\n",
              "      <th>4</th>\n",
              "      <td>Owing to the high rent introduced by the flat ...</td>\n",
              "      <td>Evidence</td>\n",
              "    </tr>\n",
              "  </tbody>\n",
              "</table>\n",
              "</div>\n",
              "      <button class=\"colab-df-convert\" onclick=\"convertToInteractive('df-27678a63-a13c-4bf3-9392-85c02d0746ac')\"\n",
              "              title=\"Convert this dataframe to an interactive table.\"\n",
              "              style=\"display:none;\">\n",
              "        \n",
              "  <svg xmlns=\"http://www.w3.org/2000/svg\" height=\"24px\"viewBox=\"0 0 24 24\"\n",
              "       width=\"24px\">\n",
              "    <path d=\"M0 0h24v24H0V0z\" fill=\"none\"/>\n",
              "    <path d=\"M18.56 5.44l.94 2.06.94-2.06 2.06-.94-2.06-.94-.94-2.06-.94 2.06-2.06.94zm-11 1L8.5 8.5l.94-2.06 2.06-.94-2.06-.94L8.5 2.5l-.94 2.06-2.06.94zm10 10l.94 2.06.94-2.06 2.06-.94-2.06-.94-.94-2.06-.94 2.06-2.06.94z\"/><path d=\"M17.41 7.96l-1.37-1.37c-.4-.4-.92-.59-1.43-.59-.52 0-1.04.2-1.43.59L10.3 9.45l-7.72 7.72c-.78.78-.78 2.05 0 2.83L4 21.41c.39.39.9.59 1.41.59.51 0 1.02-.2 1.41-.59l7.78-7.78 2.81-2.81c.8-.78.8-2.07 0-2.86zM5.41 20L4 18.59l7.72-7.72 1.47 1.35L5.41 20z\"/>\n",
              "  </svg>\n",
              "      </button>\n",
              "      \n",
              "  <style>\n",
              "    .colab-df-container {\n",
              "      display:flex;\n",
              "      flex-wrap:wrap;\n",
              "      gap: 12px;\n",
              "    }\n",
              "\n",
              "    .colab-df-convert {\n",
              "      background-color: #E8F0FE;\n",
              "      border: none;\n",
              "      border-radius: 50%;\n",
              "      cursor: pointer;\n",
              "      display: none;\n",
              "      fill: #1967D2;\n",
              "      height: 32px;\n",
              "      padding: 0 0 0 0;\n",
              "      width: 32px;\n",
              "    }\n",
              "\n",
              "    .colab-df-convert:hover {\n",
              "      background-color: #E2EBFA;\n",
              "      box-shadow: 0px 1px 2px rgba(60, 64, 67, 0.3), 0px 1px 3px 1px rgba(60, 64, 67, 0.15);\n",
              "      fill: #174EA6;\n",
              "    }\n",
              "\n",
              "    [theme=dark] .colab-df-convert {\n",
              "      background-color: #3B4455;\n",
              "      fill: #D2E3FC;\n",
              "    }\n",
              "\n",
              "    [theme=dark] .colab-df-convert:hover {\n",
              "      background-color: #434B5C;\n",
              "      box-shadow: 0px 1px 3px 1px rgba(0, 0, 0, 0.15);\n",
              "      filter: drop-shadow(0px 1px 2px rgba(0, 0, 0, 0.3));\n",
              "      fill: #FFFFFF;\n",
              "    }\n",
              "  </style>\n",
              "\n",
              "      <script>\n",
              "        const buttonEl =\n",
              "          document.querySelector('#df-27678a63-a13c-4bf3-9392-85c02d0746ac button.colab-df-convert');\n",
              "        buttonEl.style.display =\n",
              "          google.colab.kernel.accessAllowed ? 'block' : 'none';\n",
              "\n",
              "        async function convertToInteractive(key) {\n",
              "          const element = document.querySelector('#df-27678a63-a13c-4bf3-9392-85c02d0746ac');\n",
              "          const dataTable =\n",
              "            await google.colab.kernel.invokeFunction('convertToInteractive',\n",
              "                                                     [key], {});\n",
              "          if (!dataTable) return;\n",
              "\n",
              "          const docLinkHtml = 'Like what you see? Visit the ' +\n",
              "            '<a target=\"_blank\" href=https://colab.research.google.com/notebooks/data_table.ipynb>data table notebook</a>'\n",
              "            + ' to learn more about interactive tables.';\n",
              "          element.innerHTML = '';\n",
              "          dataTable['output_type'] = 'display_data';\n",
              "          await google.colab.output.renderOutput(dataTable, element);\n",
              "          const docLink = document.createElement('div');\n",
              "          docLink.innerHTML = docLinkHtml;\n",
              "          element.appendChild(docLink);\n",
              "        }\n",
              "      </script>\n",
              "    </div>\n",
              "  </div>\n",
              "  "
            ],
            "text/plain": [
              "                                                   0      type\n",
              "0  It is the skyrocketing rent in Hong Kong, howe...  Position\n",
              "1  Peter, who closed down a few months ago, claim...  Evidence\n",
              "2  The price of housing flats has been drasticall...     Claim\n",
              "3  While the independent stationery stores have b...     Claim\n",
              "4  Owing to the high rent introduced by the flat ...  Evidence"
            ]
          },
          "metadata": {},
          "execution_count": 27
        }
      ]
    },
    {
      "cell_type": "code",
      "source": [
        "P5[\"type\"][1],P5[0][1]"
      ],
      "metadata": {
        "colab": {
          "base_uri": "https://localhost:8080/"
        },
        "id": "EZnoWxaop8o5",
        "outputId": "97ba965f-0f62-4501-e768-a69c28612385"
      },
      "execution_count": null,
      "outputs": [
        {
          "output_type": "execute_result",
          "data": {
            "text/plain": [
              "('Evidence',\n",
              " 'Peter, who closed down a few months ago, claimed that he would have earned enough to make a living, had the rent been a little lower.')"
            ]
          },
          "metadata": {},
          "execution_count": 28
        }
      ]
    },
    {
      "cell_type": "code",
      "source": [
        "P5[\"type\"][2],P5[0][2]"
      ],
      "metadata": {
        "colab": {
          "base_uri": "https://localhost:8080/"
        },
        "id": "Zjoh-p4Aqxsz",
        "outputId": "899ebfe9-9f81-41c9-ae60-948663cb3e00"
      },
      "execution_count": null,
      "outputs": [
        {
          "output_type": "execute_result",
          "data": {
            "text/plain": [
              "('Claim',\n",
              " 'The price of housing flats has been drastically soaring since the end of SARS, and the shop rent has been following suit.')"
            ]
          },
          "metadata": {},
          "execution_count": 29
        }
      ]
    },
    {
      "cell_type": "code",
      "source": [
        "P4[\"type\"][2],P4[0][2]"
      ],
      "metadata": {
        "colab": {
          "base_uri": "https://localhost:8080/"
        },
        "id": "WhEJjLVkrksr",
        "outputId": "0b589882-2b68-4c6b-ba01-2de1217aa77f"
      },
      "execution_count": null,
      "outputs": [
        {
          "output_type": "execute_result",
          "data": {
            "text/plain": [
              "('Claim', 'It’s more comfortable and has a higher salary.')"
            ]
          },
          "metadata": {},
          "execution_count": 30
        }
      ]
    },
    {
      "cell_type": "code",
      "source": [
        ""
      ],
      "metadata": {
        "id": "pDPmp8Blr-DL"
      },
      "execution_count": null,
      "outputs": []
    },
    {
      "cell_type": "code",
      "source": [
        ""
      ],
      "metadata": {
        "id": "lhcwm06UsuN5"
      },
      "execution_count": null,
      "outputs": []
    },
    {
      "cell_type": "code",
      "source": [
        ""
      ],
      "metadata": {
        "id": "P48g2RK8tmRE"
      },
      "execution_count": null,
      "outputs": []
    }
  ],
  "metadata": {
    "accelerator": "GPU",
    "colab": {
      "collapsed_sections": [
        "2yUmgux3Qyai",
        "2AmGCjaEjkkQ",
        "PyvIZJ0ry227",
        "YpxM3-3M2hzh",
        "uquzUMjmcBCl"
      ],
      "machine_shape": "hm",
      "name": "Project 3 NLP Kaggle_FINAL2.ipynb",
      "provenance": [],
      "toc_visible": true,
      "background_execution": "on"
    },
    "kernelspec": {
      "display_name": "Python 3",
      "name": "python3"
    },
    "language_info": {
      "name": "python"
    }
  },
  "nbformat": 4,
  "nbformat_minor": 0
}